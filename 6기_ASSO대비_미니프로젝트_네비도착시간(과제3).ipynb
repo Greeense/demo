{
  "cells": [
    {
      "cell_type": "markdown",
      "metadata": {
        "id": "view-in-github",
        "colab_type": "text"
      },
      "source": [
        "<a href=\"https://colab.research.google.com/github/Greeense/demo/blob/main/6%EA%B8%B0_ASSO%EB%8C%80%EB%B9%84_%EB%AF%B8%EB%8B%88%ED%94%84%EB%A1%9C%EC%A0%9D%ED%8A%B8_%EB%84%A4%EB%B9%84%EB%8F%84%EC%B0%A9%EC%8B%9C%EA%B0%84(%EA%B3%BC%EC%A0%9C3).ipynb\" target=\"_parent\"><img src=\"https://colab.research.google.com/assets/colab-badge.svg\" alt=\"Open In Colab\"/></a>"
      ]
    },
    {
      "cell_type": "markdown",
      "id": "1f32dd86-1670-4327-bfe9-9d99b93a5d9c",
      "metadata": {
        "id": "1f32dd86-1670-4327-bfe9-9d99b93a5d9c"
      },
      "source": [
        "**AIVLE School 미니프로젝트**\n",
        "### **네비게이션 주행데이터를 이용한 <span style=\"color:darkgreen\">도착시각</span> 예측 문제**\n",
        "---"
      ]
    },
    {
      "cell_type": "markdown",
      "id": "d2341ad0-ca25-4cd0-8a66-63ba196797cb",
      "metadata": {
        "id": "d2341ad0-ca25-4cd0-8a66-63ba196797cb"
      },
      "source": [
        "<br>"
      ]
    },
    {
      "cell_type": "markdown",
      "id": "1951fedb-3724-418c-8de8-ac69b120d310",
      "metadata": {
        "id": "1951fedb-3724-418c-8de8-ac69b120d310"
      },
      "source": [
        "#### **<span style=\"color:red\">[미션 안내]</span>**\n",
        "* 네비게이션 주행데이터를 읽어들여 데이터를 분석 및 전처리한 후 머신러닝과 딥러닝으로 도착시각을 예측하고 결과를 분석하세요."
      ]
    },
    {
      "cell_type": "markdown",
      "id": "07c798aa-1b49-4dae-af82-dd853b9e7886",
      "metadata": {
        "id": "07c798aa-1b49-4dae-af82-dd853b9e7886"
      },
      "source": [
        "#### **<span style=\"color:red\">[유의 사항]</span>**\n",
        "* 각 문항의 답안코드는 반드시 '#여기에 답안코드를 작성하세요'로 표시된 cell에 작성해야 합니다.\n",
        "* 제공된 cell을 추가/삭제하고 다른 cell에 답안코드를 작성 시 채점되지 않습니다.\n",
        "* 반드시 문제에 제시된 가이드를 읽고 답안 작성하세요.\n",
        "* 문제에 변수명이 제시된 경우 반드시 해당 변수명을 사용하세요.\n",
        "* 문제와 데이터는 제3자에게 공유하거나 개인적인 용도로 사용하는 등 외부로 유출할 수 없으며 유출로 인한 책임은 응시자 본인에게 있습니다."
      ]
    },
    {
      "cell_type": "markdown",
      "id": "f2e1c59a-e306-45f5-90d0-252e63994de8",
      "metadata": {
        "id": "f2e1c59a-e306-45f5-90d0-252e63994de8"
      },
      "source": [
        "<br>"
      ]
    },
    {
      "cell_type": "markdown",
      "id": "cb429a27-f439-4323-a69f-aa554cebeb5f",
      "metadata": {
        "id": "cb429a27-f439-4323-a69f-aa554cebeb5f"
      },
      "source": [
        "### 1. scikit-learn 패키지는 머신러닝 교육을 위한 최고의 파이썬 패키지입니다.\n",
        "### scikit-learn를 별칭(alias) sk로 임포트하는 코드를 작성하고 실행하세요."
      ]
    },
    {
      "cell_type": "code",
      "execution_count": null,
      "id": "78bfda52-7125-4bf4-99cc-a49888f3557b",
      "metadata": {
        "id": "78bfda52-7125-4bf4-99cc-a49888f3557b"
      },
      "outputs": [],
      "source": [
        "# 여기에 답안코드를 작성하세요.\n",
        "import sklearn"
      ]
    },
    {
      "cell_type": "markdown",
      "id": "d792db90-2273-4eef-a0f2-3cb37d2edf7c",
      "metadata": {
        "id": "d792db90-2273-4eef-a0f2-3cb37d2edf7c"
      },
      "source": [
        "### 2. Pandas는 데이터 분석을 위해 널리 사용되는 파이썬 라이브러리입니다.\n",
        "### Pandas를 사용할 수 있도록 별칭(alias)을 pd로 해서 불러오세요."
      ]
    },
    {
      "cell_type": "code",
      "execution_count": null,
      "id": "771f7972-0473-4db8-8797-95ddc19017fc",
      "metadata": {
        "id": "771f7972-0473-4db8-8797-95ddc19017fc"
      },
      "outputs": [],
      "source": [
        "# 여기에 답안코드를 작성하세요.\n",
        "import pandas as pd"
      ]
    },
    {
      "cell_type": "markdown",
      "id": "326a5dea-8170-4655-a4c6-ed1d3e4a1718",
      "metadata": {
        "id": "326a5dea-8170-4655-a4c6-ed1d3e4a1718"
      },
      "source": [
        "<br>"
      ]
    },
    {
      "cell_type": "markdown",
      "id": "55ced9e0-391e-4169-acd5-2165cd5b3ee0",
      "metadata": {
        "id": "55ced9e0-391e-4169-acd5-2165cd5b3ee0"
      },
      "source": [
        "### 3. 모델링을 위해 분석 및 처리할 데이터 파일을 읽어오려고 합니다.\n",
        "### Pandas함수로 데이터 파일을 읽어 데이터프레임 변수명 df에 할당하는 코드를 작성하세요.\n",
        "* A0007IT.json 파일을 읽어 데이터 프레임 변수명 df에 할당하세요."
      ]
    },
    {
      "cell_type": "code",
      "execution_count": null,
      "id": "dbc291ca-4629-4beb-be81-1633aa8e62b2",
      "metadata": {
        "id": "dbc291ca-4629-4beb-be81-1633aa8e62b2",
        "outputId": "ff071740-3299-4a5e-b683-5e16b84e4832"
      },
      "outputs": [
        {
          "data": {
            "text/html": [
              "<div>\n",
              "<style scoped>\n",
              "    .dataframe tbody tr th:only-of-type {\n",
              "        vertical-align: middle;\n",
              "    }\n",
              "\n",
              "    .dataframe tbody tr th {\n",
              "        vertical-align: top;\n",
              "    }\n",
              "\n",
              "    .dataframe thead th {\n",
              "        text-align: right;\n",
              "    }\n",
              "</style>\n",
              "<table border=\"1\" class=\"dataframe\">\n",
              "  <thead>\n",
              "    <tr style=\"text-align: right;\">\n",
              "      <th></th>\n",
              "      <th>Time_Departure</th>\n",
              "      <th>Time_Arrival</th>\n",
              "      <th>Distance</th>\n",
              "      <th>Time_Driving</th>\n",
              "      <th>Speed_Per_Hour</th>\n",
              "      <th>Address1</th>\n",
              "      <th>Address2</th>\n",
              "      <th>Signaltype</th>\n",
              "      <th>Weekday</th>\n",
              "      <th>Hour</th>\n",
              "      <th>Day</th>\n",
              "    </tr>\n",
              "  </thead>\n",
              "  <tbody>\n",
              "    <tr>\n",
              "      <th>0</th>\n",
              "      <td>35:21.0</td>\n",
              "      <td>55:22.6</td>\n",
              "      <td>12914.0</td>\n",
              "      <td>1201.534058</td>\n",
              "      <td>38.692536</td>\n",
              "      <td>경기도</td>\n",
              "      <td>광명시</td>\n",
              "      <td>7</td>\n",
              "      <td>0</td>\n",
              "      <td>5</td>\n",
              "      <td>20</td>\n",
              "    </tr>\n",
              "    <tr>\n",
              "      <th>1</th>\n",
              "      <td>55:22.0</td>\n",
              "      <td>09:06.9</td>\n",
              "      <td>7483.0</td>\n",
              "      <td>823.817017</td>\n",
              "      <td>32.699980</td>\n",
              "      <td>서울특별시</td>\n",
              "      <td>영등포구</td>\n",
              "      <td>31</td>\n",
              "      <td>0</td>\n",
              "      <td>5</td>\n",
              "      <td>20</td>\n",
              "    </tr>\n",
              "    <tr>\n",
              "      <th>2</th>\n",
              "      <td>13:46.0</td>\n",
              "      <td>22:32.9</td>\n",
              "      <td>8087.0</td>\n",
              "      <td>526.710998</td>\n",
              "      <td>55.273575</td>\n",
              "      <td>경기도</td>\n",
              "      <td>김포시</td>\n",
              "      <td>6</td>\n",
              "      <td>0</td>\n",
              "      <td>0</td>\n",
              "      <td>20</td>\n",
              "    </tr>\n",
              "    <tr>\n",
              "      <th>3</th>\n",
              "      <td>13:43.0</td>\n",
              "      <td>28:42.7</td>\n",
              "      <td>10528.0</td>\n",
              "      <td>898.581970</td>\n",
              "      <td>42.178456</td>\n",
              "      <td>경기도</td>\n",
              "      <td>광주시</td>\n",
              "      <td>2</td>\n",
              "      <td>0</td>\n",
              "      <td>0</td>\n",
              "      <td>20</td>\n",
              "    </tr>\n",
              "    <tr>\n",
              "      <th>4</th>\n",
              "      <td>01:57.0</td>\n",
              "      <td>17:58.2</td>\n",
              "      <td>10636.0</td>\n",
              "      <td>957.758972</td>\n",
              "      <td>39.978326</td>\n",
              "      <td>경기도</td>\n",
              "      <td>안산시 상록구</td>\n",
              "      <td>28</td>\n",
              "      <td>0</td>\n",
              "      <td>0</td>\n",
              "      <td>20</td>\n",
              "    </tr>\n",
              "  </tbody>\n",
              "</table>\n",
              "</div>"
            ],
            "text/plain": [
              "  Time_Departure Time_Arrival  Distance  Time_Driving  Speed_Per_Hour  \\\n",
              "0        35:21.0      55:22.6   12914.0   1201.534058       38.692536   \n",
              "1        55:22.0      09:06.9    7483.0    823.817017       32.699980   \n",
              "2        13:46.0      22:32.9    8087.0    526.710998       55.273575   \n",
              "3        13:43.0      28:42.7   10528.0    898.581970       42.178456   \n",
              "4        01:57.0      17:58.2   10636.0    957.758972       39.978326   \n",
              "\n",
              "  Address1 Address2  Signaltype  Weekday  Hour  Day  \n",
              "0      경기도      광명시           7        0     5   20  \n",
              "1    서울특별시     영등포구          31        0     5   20  \n",
              "2      경기도      김포시           6        0     0   20  \n",
              "3      경기도      광주시           2        0     0   20  \n",
              "4      경기도  안산시 상록구          28        0     0   20  "
            ]
          },
          "execution_count": 14,
          "metadata": {},
          "output_type": "execute_result"
        }
      ],
      "source": [
        "# 여기에 답안코드를 작성하세요.\n",
        "path = \"C:/Users/User/project5/A0007IT.json\"\n",
        "\n",
        "df = pd.read_json(path)\n",
        "df.head()"
      ]
    },
    {
      "cell_type": "markdown",
      "id": "a1c7f855-339a-4600-a87d-64a5525edcc8",
      "metadata": {
        "id": "a1c7f855-339a-4600-a87d-64a5525edcc8"
      },
      "source": [
        "### 4. Address1(주소1)에 대한 분포도를 알아 보려고 합니다.\n",
        "### Address1(주소1)에 대해 countplot그래프로 만들고 아래 가이드에 따라 답하세요.\n",
        "* Seaborn을 활용하세요.\n",
        "* 첫번째, Address1(주소1)에 대해서 분포를 보여주는 countplot그래프 그리세요.\n",
        "* 두번째, 지역명이 없는 '-'에 해당되는 row(행)을 삭제하세요."
      ]
    },
    {
      "cell_type": "code",
      "execution_count": null,
      "id": "865d5d47-ce7e-4536-828f-b9d5ab804780",
      "metadata": {
        "tags": [],
        "id": "865d5d47-ce7e-4536-828f-b9d5ab804780",
        "outputId": "cb7aed60-c517-402d-aa08-6d6e6cca128d"
      },
      "outputs": [
        {
          "data": {
            "text/plain": [
              "<Axes: xlabel='Address1', ylabel='count'>"
            ]
          },
          "execution_count": 16,
          "metadata": {},
          "output_type": "execute_result"
        },
        {
          "data": {
            "image/png": "[encoded data removed]",
            "text/plain": [
              "<Figure size 640x480 with 1 Axes>"
            ]
          },
          "metadata": {},
          "output_type": "display_data"
        }
      ],
      "source": [
        "# 여기에 답안코드를 작성하세요.\n",
        "\n",
        "import seaborn as sns\n",
        "import matplotlib.pyplot as plt\n",
        "\n",
        "plt.rc(\"font\", family = \"Malgun Gothic\")\n",
        "sns.set(font=\"Malgun Gothic\",\n",
        "rc={\"axes.unicode_minus\":False}, style='white')\n",
        "#첫번째, Address1(주소1)에 대해서 분포를 보여주는 countplot그래프 그리세요.\n",
        "sns.countplot(x='Address1', data= df)"
      ]
    },
    {
      "cell_type": "code",
      "execution_count": null,
      "id": "93d15221-4809-4120-ac22-396539d68cdc",
      "metadata": {
        "id": "93d15221-4809-4120-ac22-396539d68cdc",
        "outputId": "4aa5a204-b263-4a57-9479-58d93fbecd33"
      },
      "outputs": [
        {
          "ename": "NameError",
          "evalue": "name 'df' is not defined",
          "output_type": "error",
          "traceback": [
            "\u001b[1;31m---------------------------------------------------------------------------\u001b[0m",
            "\u001b[1;31mNameError\u001b[0m                                 Traceback (most recent call last)",
            "Cell \u001b[1;32mIn[1], line 2\u001b[0m\n\u001b[0;32m      1\u001b[0m \u001b[38;5;66;03m#두번째, 지역명이 없는 '-'에 해당되는 row(행)을 삭제하세요.\u001b[39;00m\n\u001b[1;32m----> 2\u001b[0m df\u001b[38;5;241m.\u001b[39mhead()\n",
            "\u001b[1;31mNameError\u001b[0m: name 'df' is not defined"
          ]
        }
      ],
      "source": [
        "#두번째, 지역명이 없는 '-'에 해당되는 row(행)을 삭제하세요.\n",
        "df.head()"
      ]
    },
    {
      "cell_type": "markdown",
      "id": "594967e8-9231-4671-a88e-7b54898ffa4e",
      "metadata": {
        "id": "594967e8-9231-4671-a88e-7b54898ffa4e"
      },
      "source": [
        "<br>"
      ]
    },
    {
      "cell_type": "markdown",
      "id": "ff6b633c-fbb2-40d1-982e-5e57daac66cc",
      "metadata": {
        "id": "ff6b633c-fbb2-40d1-982e-5e57daac66cc"
      },
      "source": [
        "### 5. 실주행시간과 평균시속의 분포를 같이 확인하려고 합니다.\n",
        "### Time_Driving(실주행시간)과 Speed_Per_Hour(평균시속)을 jointplot 그래프로 만드세요.\n",
        "* Seaborn을 활용하세요.\n",
        "* X축에는 Time_Driving(실주행시간)을 표시하고 Y축에는 Speed_Per_Hour(평균시속)을 표시하세요."
      ]
    },
    {
      "cell_type": "code",
      "execution_count": null,
      "id": "23c0e7e5-c4e7-42e8-9258-2bd3fb7a1551",
      "metadata": {
        "id": "23c0e7e5-c4e7-42e8-9258-2bd3fb7a1551"
      },
      "outputs": [],
      "source": [
        "# 여기에 답안코드를 작성하세요.\n"
      ]
    },
    {
      "cell_type": "markdown",
      "id": "7c3d46d9-2a4a-49ce-ace2-b007933c2a53",
      "metadata": {
        "id": "7c3d46d9-2a4a-49ce-ace2-b007933c2a53"
      },
      "source": [
        "<br>"
      ]
    },
    {
      "cell_type": "markdown",
      "id": "c7ba7823-db7b-409c-91a2-13519680b52c",
      "metadata": {
        "id": "c7ba7823-db7b-409c-91a2-13519680b52c"
      },
      "source": [
        "### 6. 위의 jointplot 그래프에서 시속 300이 넘는 이상치를 발견할 수 있습니다.\n",
        "### jointplot 그래프에서 발견한 이상치 1개를 삭제하세요.\n",
        "* 대상 데이터프레임: df\n",
        "* jointplot 그래프를 보고 시속 300 이상되는 이상치를 찾아 해당 행(Row)을 삭제하세요.\n",
        "* 전처리 반영 후에 새로운 데이터프레임 변수명 df_temp에 저장하세요."
      ]
    },
    {
      "cell_type": "code",
      "execution_count": null,
      "id": "414a676e-0392-4e52-a8fa-bc4dd71482b8",
      "metadata": {
        "id": "414a676e-0392-4e52-a8fa-bc4dd71482b8"
      },
      "outputs": [],
      "source": [
        "# 여기에 답안코드를 작성하세요.\n"
      ]
    },
    {
      "cell_type": "markdown",
      "id": "43d2735b-8ba6-44c9-9e08-6c53002f1b46",
      "metadata": {
        "id": "43d2735b-8ba6-44c9-9e08-6c53002f1b46"
      },
      "source": [
        "<br>"
      ]
    },
    {
      "cell_type": "markdown",
      "id": "f086ac8c-cef8-4944-a518-81fc042b1444",
      "metadata": {
        "id": "f086ac8c-cef8-4944-a518-81fc042b1444"
      },
      "source": [
        "### 7. 모델링 성능을 제대로 얻기 위해서 결측치 처리는 필수입니다.\n",
        "### 아래 가이드를 따라 결측치 처리하세요.\n",
        "* 대상 데이터프레임: df_temp\n",
        "* 결측치를 확인하는 코드를 작성하세요.\n",
        "* 결측치가 있는 행(raw)를 삭제 하세요.\n",
        "* 전처리 반영된 결과를 새로운 데이터프레임 변수명 df_na에 저장하세요."
      ]
    },
    {
      "cell_type": "code",
      "execution_count": null,
      "id": "ccc8da5a-221a-4c13-ab4e-792264ea48a8",
      "metadata": {
        "id": "ccc8da5a-221a-4c13-ab4e-792264ea48a8"
      },
      "outputs": [],
      "source": [
        "# 여기에 답안코드를 작성하세요.\n"
      ]
    },
    {
      "cell_type": "markdown",
      "id": "46c64f89-a3ee-45d7-94f4-5ede4c6d6e92",
      "metadata": {
        "id": "46c64f89-a3ee-45d7-94f4-5ede4c6d6e92"
      },
      "source": [
        "<br>"
      ]
    },
    {
      "cell_type": "markdown",
      "id": "590a5dfe-8ebf-4fdc-9c6b-f3b03fc57890",
      "metadata": {
        "id": "590a5dfe-8ebf-4fdc-9c6b-f3b03fc57890"
      },
      "source": [
        "### 8. 모델링 성능을 제대로 얻기 위해서 불필요한 변수는 삭제해야 합니다.\n",
        "### 아래 가이드를 따라 불필요 데이터를 삭제 처리하세요.\n",
        "* 대상 데이터프레임: df_na\n",
        "* 'Time_Departure', 'Time_Arrival' 2개 컬럼을 삭제하세요.\n",
        "* 전처리 반영된 결과를 새로운 데이터프레임 변수명 df_del에 저장하세요."
      ]
    },
    {
      "cell_type": "code",
      "execution_count": null,
      "id": "7573f7e1-eeb9-436b-8fb4-af7ba4872782",
      "metadata": {
        "id": "7573f7e1-eeb9-436b-8fb4-af7ba4872782"
      },
      "outputs": [],
      "source": [
        "# 여기에 답안코드를 작성하세요.\n"
      ]
    },
    {
      "cell_type": "markdown",
      "id": "9db815d3-4725-42e4-a34d-a693ef160dc4",
      "metadata": {
        "id": "9db815d3-4725-42e4-a34d-a693ef160dc4"
      },
      "source": [
        "<br>"
      ]
    },
    {
      "cell_type": "markdown",
      "id": "2364a91e-b4d4-4471-8171-82cd7a87cb25",
      "metadata": {
        "id": "2364a91e-b4d4-4471-8171-82cd7a87cb25"
      },
      "source": [
        "### 9. 원-핫 인코딩(One-hot encoding)은 범주형 변수를 1과 0의 이진형 벡터로 변환하기 위하여 사용하는 방법입니다.\n",
        "### 원-핫 인코딩으로 아래 조건에 해당하는 컬럼 데이터를 변환하세요.\n",
        "* 대상 데이터프레임: df_del\n",
        "* 원-핫 인코딩 대상: object 타입의 전체 컬럼\n",
        "* 활용 함수: pandas의 get_dummies\n",
        "* 해당 전처리가 반영된 결과를 데이터프레임 변수 df_preset에 저장해 주세요."
      ]
    },
    {
      "cell_type": "code",
      "execution_count": null,
      "id": "abbad879-2bf9-4177-837a-0dcca9adcd43",
      "metadata": {
        "id": "abbad879-2bf9-4177-837a-0dcca9adcd43"
      },
      "outputs": [],
      "source": [
        "# 여기에 답안코드를 작성하세요.\n"
      ]
    },
    {
      "cell_type": "markdown",
      "id": "4266bd53-b060-4355-b473-c051cbbc908e",
      "metadata": {
        "id": "4266bd53-b060-4355-b473-c051cbbc908e"
      },
      "source": [
        "<br>"
      ]
    },
    {
      "cell_type": "markdown",
      "id": "6b01b0e7-30e3-4a64-8e6a-1e45507a8262",
      "metadata": {
        "id": "6b01b0e7-30e3-4a64-8e6a-1e45507a8262"
      },
      "source": [
        "### 10. 훈련과 검증 각각에 사용할 데이터셋을 분리하려고 합니다.\n",
        "### Time_Driving(실주행시간) 컬럼을 label값 y로, 나머지 컬럼을 feature값 X로 할당한 후 훈련데이터셋과 검증데이터셋으로 분리하세요.\n",
        "* 대상 데이터프레임: df_preset\n",
        "* 훈련 데이터셋 label: y_train, 훈련 데이터셋 Feature: X_train\n",
        "* 검증 데이터셋 label: y_valid, 검증 데이터셋 Feature: X_valid\n",
        "* 훈련 데이터셋과 검증데이터셋 비율은 80:20\n",
        "* random_state: 42\n",
        "* Scikit-learn의 train_test_split 함수를 활용하세요."
      ]
    },
    {
      "cell_type": "code",
      "execution_count": null,
      "id": "da848455-7b93-47fd-8ac4-d844b2a4e7be",
      "metadata": {
        "tags": [],
        "id": "da848455-7b93-47fd-8ac4-d844b2a4e7be"
      },
      "outputs": [],
      "source": [
        "# 여기에 답안코드를 작성하세요.\n"
      ]
    },
    {
      "cell_type": "markdown",
      "id": "a0f356a6-f40f-45e2-a559-d5d04e75ea3f",
      "metadata": {
        "id": "a0f356a6-f40f-45e2-a559-d5d04e75ea3f"
      },
      "source": [
        "<br>"
      ]
    },
    {
      "cell_type": "markdown",
      "id": "8fb3c92a-4027-4076-bdb0-6f3bda7da917",
      "metadata": {
        "id": "8fb3c92a-4027-4076-bdb0-6f3bda7da917"
      },
      "source": [
        "### 11. Time_Driving(실주행시간)을 예측하는 머신러닝 모델을 만들려고 합니다.\n",
        "### 의사결정나무(decision tree)는 여러 가지 규칙을 순차적으로 적용하면서 독립 변수 공간을 분할하는 모형으로\n",
        "### 분류(classification)와 회귀 분석(regression)에 모두 사용될 수 있습니다.\n",
        "### 의사결정나무(decision tree)로 학습을 진행하세요.\n",
        "* 트리의 최대 깊이: 5로 설정\n",
        "* 노드를 분할하기 위한 최소한의 샘플 데이터수(min_samples_split): 3로 설정\n",
        "* random_state: 120로 설정"
      ]
    },
    {
      "cell_type": "code",
      "execution_count": null,
      "id": "8901a3f2-3839-4831-afeb-fd2877eef954",
      "metadata": {
        "id": "8901a3f2-3839-4831-afeb-fd2877eef954"
      },
      "outputs": [],
      "source": [
        "# 여기에 답안코드를 작성하세요.\n"
      ]
    },
    {
      "cell_type": "markdown",
      "id": "c42fb023-9864-4471-8a45-44fdbfd35e93",
      "metadata": {
        "id": "c42fb023-9864-4471-8a45-44fdbfd35e93"
      },
      "source": [
        "<br>"
      ]
    },
    {
      "cell_type": "markdown",
      "id": "1ccbcefa-d9b4-454f-b82a-f755d5f16283",
      "metadata": {
        "id": "1ccbcefa-d9b4-454f-b82a-f755d5f16283"
      },
      "source": [
        "### 12. 위 의사결정나무(decision tree) 모델의 성능을 평가하려고 합니다.\n",
        "### 예측 결과의 mae(Mean Absolute Error)를 구하세요.\n",
        "* 성능 평가는 검증 데이터셋을 활용하세요.\n",
        "* 11번 문제에서 만든 의사결정나무(decision tree) 모델로 y값을 예측(predict)하여 y_pred에 저장하세요.\n",
        "* 검증 정답(y_valid)과 예측값(y_pred)의 mae(Mean Absolute Error)를 구하고 dt_mae 변수에 저장하세요."
      ]
    },
    {
      "cell_type": "code",
      "execution_count": null,
      "id": "8a8b9d20-a680-4000-9b3a-aadfe5d6cb02",
      "metadata": {
        "id": "8a8b9d20-a680-4000-9b3a-aadfe5d6cb02"
      },
      "outputs": [],
      "source": [
        "# 여기에 답안코드를 작성하세요.\n"
      ]
    },
    {
      "cell_type": "markdown",
      "id": "ca8e3bcd-70a1-41fe-b050-2a7b3d97280b",
      "metadata": {
        "tags": [],
        "id": "ca8e3bcd-70a1-41fe-b050-2a7b3d97280b"
      },
      "source": [
        "<br>"
      ]
    },
    {
      "cell_type": "markdown",
      "id": "9d72df85-cb80-4f1b-a4db-01ea5b4ec30d",
      "metadata": {
        "id": "9d72df85-cb80-4f1b-a4db-01ea5b4ec30d"
      },
      "source": [
        "##### **<span style=\"color:red\">다음 문항을 풀기 전에</span> 아래 코드를 실행하세요.**"
      ]
    },
    {
      "cell_type": "code",
      "execution_count": null,
      "id": "5f6e8b6d-f740-4d98-9189-78cdb98991d0",
      "metadata": {
        "id": "5f6e8b6d-f740-4d98-9189-78cdb98991d0"
      },
      "outputs": [],
      "source": [
        "import tensorflow as tf\n",
        "from tensorflow.keras.models import Sequential, load_model\n",
        "from tensorflow.keras.layers import Dense, Activation, Dropout, BatchNormalization\n",
        "from tensorflow.keras.callbacks import EarlyStopping, ModelCheckpoint\n",
        "from tensorflow.keras.utils import to_categorical\n",
        "\n",
        "tf.random.set_seed(1)"
      ]
    },
    {
      "cell_type": "markdown",
      "id": "0d15cb7c-f9fd-45ce-85e0-7ea72a4091a5",
      "metadata": {
        "tags": [],
        "id": "0d15cb7c-f9fd-45ce-85e0-7ea72a4091a5"
      },
      "source": [
        "<br>"
      ]
    },
    {
      "cell_type": "markdown",
      "id": "e897fb3e-1364-4445-ac10-920f82ae4232",
      "metadata": {
        "id": "e897fb3e-1364-4445-ac10-920f82ae4232"
      },
      "source": [
        "### 13. Time_Driving(실주행시간)을 예측하는 딥러닝 모델을 만들려고 합니다.\n",
        "### 아래 가이드에 따라 모델링하고 학습을 진행하세요.\n",
        "* Tensoflow framework를 사용하여 딥러닝 모델을 만드세요.\n",
        "* 히든레이어(hidden layer) 2개이상으로 모델을 구성하세요.\n",
        "* dropout 비율 0.2로 Dropout 레이어 1개를 추가해 주세요.\n",
        "* 손실함수는 MSE(Mean Squared Error)를 사용하세요.\n",
        "* 하이퍼파라미터 epochs: 30, batch_size: 16으로 설정해주세요.\n",
        "* 각 에포크마다 loss와 metrics 평가하기 위한 데이터로 X_valid, y_valid 사용하세요.\n",
        "* 학습정보는 history 변수에 저장해주세요"
      ]
    },
    {
      "cell_type": "code",
      "execution_count": null,
      "id": "df129f00-16d9-427b-adef-af90f3ab177c",
      "metadata": {
        "id": "df129f00-16d9-427b-adef-af90f3ab177c"
      },
      "outputs": [],
      "source": [
        "# 여기에 답안코드를 작성하세요.\n"
      ]
    },
    {
      "cell_type": "markdown",
      "id": "12f33874-3f1e-4b63-ba3e-91d90ee5e512",
      "metadata": {
        "id": "12f33874-3f1e-4b63-ba3e-91d90ee5e512"
      },
      "source": [
        "<br>"
      ]
    },
    {
      "cell_type": "markdown",
      "id": "8989c197-ec84-4192-955d-1c52d34cb006",
      "metadata": {
        "id": "8989c197-ec84-4192-955d-1c52d34cb006"
      },
      "source": [
        "### 14. 위 딥러닝 모델의 성능을 평가하려고 합니다.\n",
        "### Matplotlib 라이브러리 활용해서 mae와 mse를 그래프로 표시하세요.\n",
        "* 1개의 그래프에 학습 mse과 검증 mse 2가지를 모두 표시하세요.\n",
        "* 위 2가지 각각의 범례를 'mae', 'mse'로 표시하세요.\n",
        "* 그래프의 타이틀은 'Model MSE'로 표시하세요.\n",
        "* X축에는 'Epochs'라고 표시하고 Y축에는 'MSE'라고 표시하세요."
      ]
    },
    {
      "cell_type": "code",
      "execution_count": null,
      "id": "e5094d66-0b51-45bf-89f0-07af04d7909e",
      "metadata": {
        "id": "e5094d66-0b51-45bf-89f0-07af04d7909e"
      },
      "outputs": [],
      "source": [
        "# 여기에 답안코드를 작성하세요.\n",
        "# mae mse만 그리기"
      ]
    },
    {
      "cell_type": "code",
      "execution_count": null,
      "id": "56acc885-d4e4-45ea-8477-e34e676658a2",
      "metadata": {
        "id": "56acc885-d4e4-45ea-8477-e34e676658a2"
      },
      "outputs": [],
      "source": []
    }
  ],
  "metadata": {
    "kernelspec": {
      "display_name": "Python 3 (ipykernel)",
      "language": "python",
      "name": "python3"
    },
    "language_info": {
      "codemirror_mode": {
        "name": "ipython",
        "version": 3
      },
      "file_extension": ".py",
      "mimetype": "text/x-python",
      "name": "python",
      "nbconvert_exporter": "python",
      "pygments_lexer": "ipython3",
      "version": "3.12.4"
    },
    "colab": {
      "provenance": [],
      "include_colab_link": true
    }
  },
  "nbformat": 4,
  "nbformat_minor": 5
}