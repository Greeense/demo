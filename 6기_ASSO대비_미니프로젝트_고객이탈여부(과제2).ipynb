{
  "cells": [
    {
      "cell_type": "markdown",
      "metadata": {
        "id": "view-in-github",
        "colab_type": "text"
      },
      "source": [
        "<a href=\"https://colab.research.google.com/github/Greeense/demo/blob/main/6%EA%B8%B0_ASSO%EB%8C%80%EB%B9%84_%EB%AF%B8%EB%8B%88%ED%94%84%EB%A1%9C%EC%A0%9D%ED%8A%B8_%EA%B3%A0%EA%B0%9D%EC%9D%B4%ED%83%88%EC%97%AC%EB%B6%80(%EA%B3%BC%EC%A0%9C2).ipynb\" target=\"_parent\"><img src=\"https://colab.research.google.com/assets/colab-badge.svg\" alt=\"Open In Colab\"/></a>"
      ]
    },
    {
      "cell_type": "markdown",
      "id": "1f32dd86-1670-4327-bfe9-9d99b93a5d9c",
      "metadata": {
        "id": "1f32dd86-1670-4327-bfe9-9d99b93a5d9c"
      },
      "source": [
        "**AIVLE School 미니프로젝트**\n",
        "### **통신 서비스 이용 고객의 <span style=\"color:darkgreen\">이탈 여부</span> 예측 문제**\n",
        "---"
      ]
    },
    {
      "cell_type": "markdown",
      "id": "e39fd6a0-05d7-4def-b5c1-6517ba575080",
      "metadata": {
        "id": "e39fd6a0-05d7-4def-b5c1-6517ba575080"
      },
      "source": [
        "<br>"
      ]
    },
    {
      "cell_type": "markdown",
      "id": "1951fedb-3724-418c-8de8-ac69b120d310",
      "metadata": {
        "tags": [],
        "id": "1951fedb-3724-418c-8de8-ac69b120d310"
      },
      "source": [
        "#### **<span style=\"color:red\">[미션 안내]</span>**\n",
        "* 고객 관련 데이터를 분석한 후 고객의 서비스 중단 또는 경쟁업체로의 이탈 여부를 예측하는 머신러닝, 딥러닝 모델을 만들고 결과를 예측하세요."
      ]
    },
    {
      "cell_type": "markdown",
      "id": "07c798aa-1b49-4dae-af82-dd853b9e7886",
      "metadata": {
        "id": "07c798aa-1b49-4dae-af82-dd853b9e7886"
      },
      "source": [
        "#### **<span style=\"color:red\">[유의 사항]</span>**\n",
        "* 각 문항의 답안코드는 반드시 '#여기에 답안코드를 작성하세요'로 표시된 cell에 작성해야 합니다.\n",
        "* 제공된 cell을 추가/삭제하고 다른 cell에 답안코드를 작성 시 채점되지 않습니다.\n",
        "* 반드시 문제에 제시된 가이드를 읽고 답안 작성하세요.\n",
        "* 문제에 변수명이 제시된 경우 반드시 해당 변수명을 사용하세요.\n",
        "* 문제와 데이터는 제3자에게 공유하거나 개인적인 용도로 사용하는 등 외부로 유출할 수 없으며 유출로 인한 책임은 응시자 본인에게 있습니다."
      ]
    },
    {
      "cell_type": "markdown",
      "id": "f2e1c59a-e306-45f5-90d0-252e63994de8",
      "metadata": {
        "id": "f2e1c59a-e306-45f5-90d0-252e63994de8"
      },
      "source": [
        "<br>"
      ]
    },
    {
      "cell_type": "markdown",
      "id": "cb429a27-f439-4323-a69f-aa554cebeb5f",
      "metadata": {
        "id": "cb429a27-f439-4323-a69f-aa554cebeb5f"
      },
      "source": [
        "### 1. scikit-learn 패키지는 머신러닝 교육을 위한 최고의 파이썬 패키지입니다.\n",
        "### scikit-learn를 별칭(alias) sk로 임포트하는 코드를 작성하고 실행하세요."
      ]
    },
    {
      "cell_type": "code",
      "execution_count": null,
      "id": "78bfda52-7125-4bf4-99cc-a49888f3557b",
      "metadata": {
        "id": "78bfda52-7125-4bf4-99cc-a49888f3557b"
      },
      "outputs": [],
      "source": [
        "# 여기에 답안코드를 작성하세요.\n",
        "import sklearn as sk"
      ]
    },
    {
      "cell_type": "markdown",
      "id": "7d66e4d1-6a30-484d-920e-772b815f50c7",
      "metadata": {
        "id": "7d66e4d1-6a30-484d-920e-772b815f50c7"
      },
      "source": [
        "<br>"
      ]
    },
    {
      "cell_type": "markdown",
      "id": "d792db90-2273-4eef-a0f2-3cb37d2edf7c",
      "metadata": {
        "id": "d792db90-2273-4eef-a0f2-3cb37d2edf7c"
      },
      "source": [
        "### 2. Pandas를 사용할 수 있도록 별칭(alias)을 pd로 해서 불러오세요."
      ]
    },
    {
      "cell_type": "code",
      "execution_count": null,
      "id": "771f7972-0473-4db8-8797-95ddc19017fc",
      "metadata": {
        "id": "771f7972-0473-4db8-8797-95ddc19017fc"
      },
      "outputs": [],
      "source": [
        "# 여기에 답안코드를 작성하세요.\n",
        "import pandas as pd"
      ]
    },
    {
      "cell_type": "markdown",
      "id": "326a5dea-8170-4655-a4c6-ed1d3e4a1718",
      "metadata": {
        "id": "326a5dea-8170-4655-a4c6-ed1d3e4a1718"
      },
      "source": [
        "<br>"
      ]
    },
    {
      "cell_type": "markdown",
      "id": "55ced9e0-391e-4169-acd5-2165cd5b3ee0",
      "metadata": {
        "id": "55ced9e0-391e-4169-acd5-2165cd5b3ee0"
      },
      "source": [
        "### 3. 모델링을 위해 분석 및 처리할 데이터 파일을 읽어오려고 합니다.\n",
        "### Pandas함수로 데이터 파일을 읽어 데이터프레임 변수명 df에 할당하는 코드를 작성하세요.\n",
        "* churn_data.csv 파일을 읽어 데이터 프레임 변수명 df에 할당하세요."
      ]
    },
    {
      "cell_type": "code",
      "execution_count": null,
      "id": "dbc291ca-4629-4beb-be81-1633aa8e62b2",
      "metadata": {
        "id": "dbc291ca-4629-4beb-be81-1633aa8e62b2",
        "outputId": "26808909-0864-4f01-8732-7f0db37b412b"
      },
      "outputs": [
        {
          "data": {
            "text/html": [
              "<div>\n",
              "<style scoped>\n",
              "    .dataframe tbody tr th:only-of-type {\n",
              "        vertical-align: middle;\n",
              "    }\n",
              "\n",
              "    .dataframe tbody tr th {\n",
              "        vertical-align: top;\n",
              "    }\n",
              "\n",
              "    .dataframe thead th {\n",
              "        text-align: right;\n",
              "    }\n",
              "</style>\n",
              "<table border=\"1\" class=\"dataframe\">\n",
              "  <thead>\n",
              "    <tr style=\"text-align: right;\">\n",
              "      <th></th>\n",
              "      <th>customerID</th>\n",
              "      <th>gender</th>\n",
              "      <th>SeniorCitizen</th>\n",
              "      <th>Partner</th>\n",
              "      <th>Dependents</th>\n",
              "      <th>tenure</th>\n",
              "      <th>PhoneService</th>\n",
              "      <th>MultipleLines</th>\n",
              "      <th>InternetService</th>\n",
              "      <th>OnlineSecurity</th>\n",
              "      <th>...</th>\n",
              "      <th>DeviceProtection</th>\n",
              "      <th>TechSupport</th>\n",
              "      <th>StreamingTV</th>\n",
              "      <th>StreamingMovies</th>\n",
              "      <th>Contract</th>\n",
              "      <th>PaperlessBilling</th>\n",
              "      <th>PaymentMethod</th>\n",
              "      <th>MonthlyCharges</th>\n",
              "      <th>TotalCharges</th>\n",
              "      <th>Churn</th>\n",
              "    </tr>\n",
              "  </thead>\n",
              "  <tbody>\n",
              "    <tr>\n",
              "      <th>0</th>\n",
              "      <td>7590-VHVEG</td>\n",
              "      <td>NaN</td>\n",
              "      <td>0.0</td>\n",
              "      <td>Yes</td>\n",
              "      <td>No</td>\n",
              "      <td>1</td>\n",
              "      <td>No</td>\n",
              "      <td>No phone service</td>\n",
              "      <td>DSL</td>\n",
              "      <td>No</td>\n",
              "      <td>...</td>\n",
              "      <td>No</td>\n",
              "      <td>No</td>\n",
              "      <td>No</td>\n",
              "      <td>No</td>\n",
              "      <td>NaN</td>\n",
              "      <td>Yes</td>\n",
              "      <td>Electronic check</td>\n",
              "      <td>29.85</td>\n",
              "      <td>29.85</td>\n",
              "      <td>No</td>\n",
              "    </tr>\n",
              "    <tr>\n",
              "      <th>1</th>\n",
              "      <td>5575-GNVDE</td>\n",
              "      <td>Male</td>\n",
              "      <td>0.0</td>\n",
              "      <td>No</td>\n",
              "      <td>No</td>\n",
              "      <td>34</td>\n",
              "      <td>Yes</td>\n",
              "      <td>No</td>\n",
              "      <td>DSL</td>\n",
              "      <td>Yes</td>\n",
              "      <td>...</td>\n",
              "      <td>Yes</td>\n",
              "      <td>No</td>\n",
              "      <td>No</td>\n",
              "      <td>No</td>\n",
              "      <td>One year</td>\n",
              "      <td>No</td>\n",
              "      <td>Mailed check</td>\n",
              "      <td>56.95</td>\n",
              "      <td>1889.5</td>\n",
              "      <td>No</td>\n",
              "    </tr>\n",
              "    <tr>\n",
              "      <th>2</th>\n",
              "      <td>3668-QPYBK</td>\n",
              "      <td>Male</td>\n",
              "      <td>0.0</td>\n",
              "      <td>No</td>\n",
              "      <td>No</td>\n",
              "      <td>2</td>\n",
              "      <td>Yes</td>\n",
              "      <td>No</td>\n",
              "      <td>DSL</td>\n",
              "      <td>Yes</td>\n",
              "      <td>...</td>\n",
              "      <td>NaN</td>\n",
              "      <td>No</td>\n",
              "      <td>No</td>\n",
              "      <td>No</td>\n",
              "      <td>Month-to-month</td>\n",
              "      <td>Yes</td>\n",
              "      <td>Mailed check</td>\n",
              "      <td>53.85</td>\n",
              "      <td>108.15</td>\n",
              "      <td>Yes</td>\n",
              "    </tr>\n",
              "    <tr>\n",
              "      <th>3</th>\n",
              "      <td>7795-CFOCW</td>\n",
              "      <td>Male</td>\n",
              "      <td>0.0</td>\n",
              "      <td>No</td>\n",
              "      <td>No</td>\n",
              "      <td>45</td>\n",
              "      <td>No</td>\n",
              "      <td>No phone service</td>\n",
              "      <td>DSL</td>\n",
              "      <td>Yes</td>\n",
              "      <td>...</td>\n",
              "      <td>NaN</td>\n",
              "      <td>Yes</td>\n",
              "      <td>No</td>\n",
              "      <td>No</td>\n",
              "      <td>One year</td>\n",
              "      <td>No</td>\n",
              "      <td>Bank transfer (automatic)</td>\n",
              "      <td>42.30</td>\n",
              "      <td>1840.75</td>\n",
              "      <td>No</td>\n",
              "    </tr>\n",
              "    <tr>\n",
              "      <th>4</th>\n",
              "      <td>9237-HQITU</td>\n",
              "      <td>Female</td>\n",
              "      <td>0.0</td>\n",
              "      <td>No</td>\n",
              "      <td>No</td>\n",
              "      <td>2</td>\n",
              "      <td>Yes</td>\n",
              "      <td>No</td>\n",
              "      <td>Fiber optic</td>\n",
              "      <td>No</td>\n",
              "      <td>...</td>\n",
              "      <td>NaN</td>\n",
              "      <td>No</td>\n",
              "      <td>No</td>\n",
              "      <td>No</td>\n",
              "      <td>Month-to-month</td>\n",
              "      <td>Yes</td>\n",
              "      <td>Electronic check</td>\n",
              "      <td>70.70</td>\n",
              "      <td>151.65</td>\n",
              "      <td>Yes</td>\n",
              "    </tr>\n",
              "  </tbody>\n",
              "</table>\n",
              "<p>5 rows × 21 columns</p>\n",
              "</div>"
            ],
            "text/plain": [
              "   customerID  gender  SeniorCitizen Partner Dependents  tenure PhoneService  \\\n",
              "0  7590-VHVEG     NaN            0.0     Yes         No       1           No   \n",
              "1  5575-GNVDE    Male            0.0      No         No      34          Yes   \n",
              "2  3668-QPYBK    Male            0.0      No         No       2          Yes   \n",
              "3  7795-CFOCW    Male            0.0      No         No      45           No   \n",
              "4  9237-HQITU  Female            0.0      No         No       2          Yes   \n",
              "\n",
              "      MultipleLines InternetService OnlineSecurity  ... DeviceProtection  \\\n",
              "0  No phone service             DSL             No  ...               No   \n",
              "1                No             DSL            Yes  ...              Yes   \n",
              "2                No             DSL            Yes  ...              NaN   \n",
              "3  No phone service             DSL            Yes  ...              NaN   \n",
              "4                No     Fiber optic             No  ...              NaN   \n",
              "\n",
              "  TechSupport StreamingTV StreamingMovies        Contract PaperlessBilling  \\\n",
              "0          No          No              No             NaN              Yes   \n",
              "1          No          No              No        One year               No   \n",
              "2          No          No              No  Month-to-month              Yes   \n",
              "3         Yes          No              No        One year               No   \n",
              "4          No          No              No  Month-to-month              Yes   \n",
              "\n",
              "               PaymentMethod MonthlyCharges  TotalCharges Churn  \n",
              "0           Electronic check          29.85         29.85    No  \n",
              "1               Mailed check          56.95        1889.5    No  \n",
              "2               Mailed check          53.85        108.15   Yes  \n",
              "3  Bank transfer (automatic)          42.30       1840.75    No  \n",
              "4           Electronic check          70.70        151.65   Yes  \n",
              "\n",
              "[5 rows x 21 columns]"
            ]
          },
          "execution_count": 15,
          "metadata": {},
          "output_type": "execute_result"
        }
      ],
      "source": [
        "# 여기에 답안코드를 작성하세요.\n",
        "path = \"C:/Users/User/project5/churn_data.csv\"\n",
        "df = pd.read_csv(path)\n",
        "df.head()"
      ]
    },
    {
      "cell_type": "markdown",
      "id": "6a34284c-1724-4326-8079-b823f1e9b08b",
      "metadata": {
        "id": "6a34284c-1724-4326-8079-b823f1e9b08b"
      },
      "source": [
        "<br>"
      ]
    },
    {
      "cell_type": "markdown",
      "id": "a1c7f855-339a-4600-a87d-64a5525edcc8",
      "metadata": {
        "id": "a1c7f855-339a-4600-a87d-64a5525edcc8"
      },
      "source": [
        "### 4. df에서 불필요한 customerID 컬럼을 삭제하고 df1에 저장하세요."
      ]
    },
    {
      "cell_type": "code",
      "execution_count": null,
      "id": "865d5d47-ce7e-4536-828f-b9d5ab804780",
      "metadata": {
        "tags": [],
        "id": "865d5d47-ce7e-4536-828f-b9d5ab804780",
        "outputId": "2f3c5457-e5a8-4a25-bc5d-b673c16167eb"
      },
      "outputs": [
        {
          "data": {
            "text/html": [
              "<div>\n",
              "<style scoped>\n",
              "    .dataframe tbody tr th:only-of-type {\n",
              "        vertical-align: middle;\n",
              "    }\n",
              "\n",
              "    .dataframe tbody tr th {\n",
              "        vertical-align: top;\n",
              "    }\n",
              "\n",
              "    .dataframe thead th {\n",
              "        text-align: right;\n",
              "    }\n",
              "</style>\n",
              "<table border=\"1\" class=\"dataframe\">\n",
              "  <thead>\n",
              "    <tr style=\"text-align: right;\">\n",
              "      <th></th>\n",
              "      <th>gender</th>\n",
              "      <th>SeniorCitizen</th>\n",
              "      <th>Partner</th>\n",
              "      <th>Dependents</th>\n",
              "      <th>tenure</th>\n",
              "      <th>PhoneService</th>\n",
              "      <th>MultipleLines</th>\n",
              "      <th>InternetService</th>\n",
              "      <th>OnlineSecurity</th>\n",
              "      <th>OnlineBackup</th>\n",
              "      <th>DeviceProtection</th>\n",
              "      <th>TechSupport</th>\n",
              "      <th>StreamingTV</th>\n",
              "      <th>StreamingMovies</th>\n",
              "      <th>Contract</th>\n",
              "      <th>PaperlessBilling</th>\n",
              "      <th>PaymentMethod</th>\n",
              "      <th>MonthlyCharges</th>\n",
              "      <th>TotalCharges</th>\n",
              "      <th>Churn</th>\n",
              "    </tr>\n",
              "  </thead>\n",
              "  <tbody>\n",
              "    <tr>\n",
              "      <th>0</th>\n",
              "      <td>NaN</td>\n",
              "      <td>0.0</td>\n",
              "      <td>Yes</td>\n",
              "      <td>No</td>\n",
              "      <td>1</td>\n",
              "      <td>No</td>\n",
              "      <td>No phone service</td>\n",
              "      <td>DSL</td>\n",
              "      <td>No</td>\n",
              "      <td>Yes</td>\n",
              "      <td>No</td>\n",
              "      <td>No</td>\n",
              "      <td>No</td>\n",
              "      <td>No</td>\n",
              "      <td>NaN</td>\n",
              "      <td>Yes</td>\n",
              "      <td>Electronic check</td>\n",
              "      <td>29.85</td>\n",
              "      <td>29.85</td>\n",
              "      <td>No</td>\n",
              "    </tr>\n",
              "    <tr>\n",
              "      <th>1</th>\n",
              "      <td>Male</td>\n",
              "      <td>0.0</td>\n",
              "      <td>No</td>\n",
              "      <td>No</td>\n",
              "      <td>34</td>\n",
              "      <td>Yes</td>\n",
              "      <td>No</td>\n",
              "      <td>DSL</td>\n",
              "      <td>Yes</td>\n",
              "      <td>No</td>\n",
              "      <td>Yes</td>\n",
              "      <td>No</td>\n",
              "      <td>No</td>\n",
              "      <td>No</td>\n",
              "      <td>One year</td>\n",
              "      <td>No</td>\n",
              "      <td>Mailed check</td>\n",
              "      <td>56.95</td>\n",
              "      <td>1889.5</td>\n",
              "      <td>No</td>\n",
              "    </tr>\n",
              "    <tr>\n",
              "      <th>2</th>\n",
              "      <td>Male</td>\n",
              "      <td>0.0</td>\n",
              "      <td>No</td>\n",
              "      <td>No</td>\n",
              "      <td>2</td>\n",
              "      <td>Yes</td>\n",
              "      <td>No</td>\n",
              "      <td>DSL</td>\n",
              "      <td>Yes</td>\n",
              "      <td>Yes</td>\n",
              "      <td>NaN</td>\n",
              "      <td>No</td>\n",
              "      <td>No</td>\n",
              "      <td>No</td>\n",
              "      <td>Month-to-month</td>\n",
              "      <td>Yes</td>\n",
              "      <td>Mailed check</td>\n",
              "      <td>53.85</td>\n",
              "      <td>108.15</td>\n",
              "      <td>Yes</td>\n",
              "    </tr>\n",
              "    <tr>\n",
              "      <th>3</th>\n",
              "      <td>Male</td>\n",
              "      <td>0.0</td>\n",
              "      <td>No</td>\n",
              "      <td>No</td>\n",
              "      <td>45</td>\n",
              "      <td>No</td>\n",
              "      <td>No phone service</td>\n",
              "      <td>DSL</td>\n",
              "      <td>Yes</td>\n",
              "      <td>No</td>\n",
              "      <td>NaN</td>\n",
              "      <td>Yes</td>\n",
              "      <td>No</td>\n",
              "      <td>No</td>\n",
              "      <td>One year</td>\n",
              "      <td>No</td>\n",
              "      <td>Bank transfer (automatic)</td>\n",
              "      <td>42.30</td>\n",
              "      <td>1840.75</td>\n",
              "      <td>No</td>\n",
              "    </tr>\n",
              "    <tr>\n",
              "      <th>4</th>\n",
              "      <td>Female</td>\n",
              "      <td>0.0</td>\n",
              "      <td>No</td>\n",
              "      <td>No</td>\n",
              "      <td>2</td>\n",
              "      <td>Yes</td>\n",
              "      <td>No</td>\n",
              "      <td>Fiber optic</td>\n",
              "      <td>No</td>\n",
              "      <td>No</td>\n",
              "      <td>NaN</td>\n",
              "      <td>No</td>\n",
              "      <td>No</td>\n",
              "      <td>No</td>\n",
              "      <td>Month-to-month</td>\n",
              "      <td>Yes</td>\n",
              "      <td>Electronic check</td>\n",
              "      <td>70.70</td>\n",
              "      <td>151.65</td>\n",
              "      <td>Yes</td>\n",
              "    </tr>\n",
              "  </tbody>\n",
              "</table>\n",
              "</div>"
            ],
            "text/plain": [
              "   gender  SeniorCitizen Partner Dependents  tenure PhoneService  \\\n",
              "0     NaN            0.0     Yes         No       1           No   \n",
              "1    Male            0.0      No         No      34          Yes   \n",
              "2    Male            0.0      No         No       2          Yes   \n",
              "3    Male            0.0      No         No      45           No   \n",
              "4  Female            0.0      No         No       2          Yes   \n",
              "\n",
              "      MultipleLines InternetService OnlineSecurity OnlineBackup  \\\n",
              "0  No phone service             DSL             No          Yes   \n",
              "1                No             DSL            Yes           No   \n",
              "2                No             DSL            Yes          Yes   \n",
              "3  No phone service             DSL            Yes           No   \n",
              "4                No     Fiber optic             No           No   \n",
              "\n",
              "  DeviceProtection TechSupport StreamingTV StreamingMovies        Contract  \\\n",
              "0               No          No          No              No             NaN   \n",
              "1              Yes          No          No              No        One year   \n",
              "2              NaN          No          No              No  Month-to-month   \n",
              "3              NaN         Yes          No              No        One year   \n",
              "4              NaN          No          No              No  Month-to-month   \n",
              "\n",
              "  PaperlessBilling              PaymentMethod  MonthlyCharges TotalCharges  \\\n",
              "0              Yes           Electronic check           29.85        29.85   \n",
              "1               No               Mailed check           56.95       1889.5   \n",
              "2              Yes               Mailed check           53.85       108.15   \n",
              "3               No  Bank transfer (automatic)           42.30      1840.75   \n",
              "4              Yes           Electronic check           70.70       151.65   \n",
              "\n",
              "  Churn  \n",
              "0    No  \n",
              "1    No  \n",
              "2   Yes  \n",
              "3    No  \n",
              "4   Yes  "
            ]
          },
          "execution_count": 18,
          "metadata": {},
          "output_type": "execute_result"
        }
      ],
      "source": [
        "# 여기에 답안코드를 작성하세요.\n",
        "drop_col = ['customerID']\n",
        "df1 = df.drop(columns=drop_col, axis=1)\n",
        "df1.head()"
      ]
    },
    {
      "cell_type": "markdown",
      "id": "594967e8-9231-4671-a88e-7b54898ffa4e",
      "metadata": {
        "id": "594967e8-9231-4671-a88e-7b54898ffa4e"
      },
      "source": [
        "<br>"
      ]
    },
    {
      "cell_type": "markdown",
      "id": "ff6b633c-fbb2-40d1-982e-5e57daac66cc",
      "metadata": {
        "id": "ff6b633c-fbb2-40d1-982e-5e57daac66cc"
      },
      "source": [
        "### 5. df1의 TotalCharges 컬럼의 타입을 float로 변경하세요.\n",
        "* TotalCharges의 컬럼 타입을 확인하는 코드를 작성하세요.\n",
        "* ' ' 값을 0으로 변환하고 컬럼 타입을 float로 변경하세요.\n",
        "* 전처리 후 데이터를 df2에 저장하세요."
      ]
    },
    {
      "cell_type": "code",
      "execution_count": null,
      "id": "23c0e7e5-c4e7-42e8-9258-2bd3fb7a1551",
      "metadata": {
        "id": "23c0e7e5-c4e7-42e8-9258-2bd3fb7a1551",
        "outputId": "f954d8a3-c41f-4bdd-8da3-83e6f996c47b"
      },
      "outputs": [
        {
          "name": "stdout",
          "output_type": "stream",
          "text": [
            "object\n"
          ]
        },
        {
          "name": "stderr",
          "output_type": "stream",
          "text": [
            "C:\\Users\\User\\AppData\\Local\\Temp\\ipykernel_18732\\447219901.py:3: FutureWarning: Setting an item of incompatible dtype is deprecated and will raise an error in a future version of pandas. Value '0' has dtype incompatible with float64, please explicitly cast to a compatible dtype first.\n",
            "  df1.loc[df1['TotalCharges']==' '] = '0'\n",
            "C:\\Users\\User\\AppData\\Local\\Temp\\ipykernel_18732\\447219901.py:3: FutureWarning: Setting an item of incompatible dtype is deprecated and will raise an error in a future version of pandas. Value '0' has dtype incompatible with int64, please explicitly cast to a compatible dtype first.\n",
            "  df1.loc[df1['TotalCharges']==' '] = '0'\n",
            "C:\\Users\\User\\AppData\\Local\\Temp\\ipykernel_18732\\447219901.py:3: FutureWarning: Setting an item of incompatible dtype is deprecated and will raise an error in a future version of pandas. Value '0' has dtype incompatible with float64, please explicitly cast to a compatible dtype first.\n",
            "  df1.loc[df1['TotalCharges']==' '] = '0'\n"
          ]
        },
        {
          "data": {
            "text/html": [
              "<div>\n",
              "<style scoped>\n",
              "    .dataframe tbody tr th:only-of-type {\n",
              "        vertical-align: middle;\n",
              "    }\n",
              "\n",
              "    .dataframe tbody tr th {\n",
              "        vertical-align: top;\n",
              "    }\n",
              "\n",
              "    .dataframe thead th {\n",
              "        text-align: right;\n",
              "    }\n",
              "</style>\n",
              "<table border=\"1\" class=\"dataframe\">\n",
              "  <thead>\n",
              "    <tr style=\"text-align: right;\">\n",
              "      <th></th>\n",
              "      <th>gender</th>\n",
              "      <th>SeniorCitizen</th>\n",
              "      <th>Partner</th>\n",
              "      <th>Dependents</th>\n",
              "      <th>tenure</th>\n",
              "      <th>PhoneService</th>\n",
              "      <th>MultipleLines</th>\n",
              "      <th>InternetService</th>\n",
              "      <th>OnlineSecurity</th>\n",
              "      <th>OnlineBackup</th>\n",
              "      <th>DeviceProtection</th>\n",
              "      <th>TechSupport</th>\n",
              "      <th>StreamingTV</th>\n",
              "      <th>StreamingMovies</th>\n",
              "      <th>Contract</th>\n",
              "      <th>PaperlessBilling</th>\n",
              "      <th>PaymentMethod</th>\n",
              "      <th>MonthlyCharges</th>\n",
              "      <th>TotalCharges</th>\n",
              "      <th>Churn</th>\n",
              "    </tr>\n",
              "  </thead>\n",
              "  <tbody>\n",
              "    <tr>\n",
              "      <th>0</th>\n",
              "      <td>NaN</td>\n",
              "      <td>0.0</td>\n",
              "      <td>Yes</td>\n",
              "      <td>No</td>\n",
              "      <td>1</td>\n",
              "      <td>No</td>\n",
              "      <td>No phone service</td>\n",
              "      <td>DSL</td>\n",
              "      <td>No</td>\n",
              "      <td>Yes</td>\n",
              "      <td>No</td>\n",
              "      <td>No</td>\n",
              "      <td>No</td>\n",
              "      <td>No</td>\n",
              "      <td>NaN</td>\n",
              "      <td>Yes</td>\n",
              "      <td>Electronic check</td>\n",
              "      <td>29.85</td>\n",
              "      <td>29.85</td>\n",
              "      <td>No</td>\n",
              "    </tr>\n",
              "    <tr>\n",
              "      <th>1</th>\n",
              "      <td>Male</td>\n",
              "      <td>0.0</td>\n",
              "      <td>No</td>\n",
              "      <td>No</td>\n",
              "      <td>34</td>\n",
              "      <td>Yes</td>\n",
              "      <td>No</td>\n",
              "      <td>DSL</td>\n",
              "      <td>Yes</td>\n",
              "      <td>No</td>\n",
              "      <td>Yes</td>\n",
              "      <td>No</td>\n",
              "      <td>No</td>\n",
              "      <td>No</td>\n",
              "      <td>One year</td>\n",
              "      <td>No</td>\n",
              "      <td>Mailed check</td>\n",
              "      <td>56.95</td>\n",
              "      <td>1889.50</td>\n",
              "      <td>No</td>\n",
              "    </tr>\n",
              "    <tr>\n",
              "      <th>2</th>\n",
              "      <td>Male</td>\n",
              "      <td>0.0</td>\n",
              "      <td>No</td>\n",
              "      <td>No</td>\n",
              "      <td>2</td>\n",
              "      <td>Yes</td>\n",
              "      <td>No</td>\n",
              "      <td>DSL</td>\n",
              "      <td>Yes</td>\n",
              "      <td>Yes</td>\n",
              "      <td>NaN</td>\n",
              "      <td>No</td>\n",
              "      <td>No</td>\n",
              "      <td>No</td>\n",
              "      <td>Month-to-month</td>\n",
              "      <td>Yes</td>\n",
              "      <td>Mailed check</td>\n",
              "      <td>53.85</td>\n",
              "      <td>108.15</td>\n",
              "      <td>Yes</td>\n",
              "    </tr>\n",
              "    <tr>\n",
              "      <th>3</th>\n",
              "      <td>Male</td>\n",
              "      <td>0.0</td>\n",
              "      <td>No</td>\n",
              "      <td>No</td>\n",
              "      <td>45</td>\n",
              "      <td>No</td>\n",
              "      <td>No phone service</td>\n",
              "      <td>DSL</td>\n",
              "      <td>Yes</td>\n",
              "      <td>No</td>\n",
              "      <td>NaN</td>\n",
              "      <td>Yes</td>\n",
              "      <td>No</td>\n",
              "      <td>No</td>\n",
              "      <td>One year</td>\n",
              "      <td>No</td>\n",
              "      <td>Bank transfer (automatic)</td>\n",
              "      <td>42.3</td>\n",
              "      <td>1840.75</td>\n",
              "      <td>No</td>\n",
              "    </tr>\n",
              "    <tr>\n",
              "      <th>4</th>\n",
              "      <td>Female</td>\n",
              "      <td>0.0</td>\n",
              "      <td>No</td>\n",
              "      <td>No</td>\n",
              "      <td>2</td>\n",
              "      <td>Yes</td>\n",
              "      <td>No</td>\n",
              "      <td>Fiber optic</td>\n",
              "      <td>No</td>\n",
              "      <td>No</td>\n",
              "      <td>NaN</td>\n",
              "      <td>No</td>\n",
              "      <td>No</td>\n",
              "      <td>No</td>\n",
              "      <td>Month-to-month</td>\n",
              "      <td>Yes</td>\n",
              "      <td>Electronic check</td>\n",
              "      <td>70.7</td>\n",
              "      <td>151.65</td>\n",
              "      <td>Yes</td>\n",
              "    </tr>\n",
              "  </tbody>\n",
              "</table>\n",
              "</div>"
            ],
            "text/plain": [
              "   gender SeniorCitizen Partner Dependents tenure PhoneService  \\\n",
              "0     NaN           0.0     Yes         No      1           No   \n",
              "1    Male           0.0      No         No     34          Yes   \n",
              "2    Male           0.0      No         No      2          Yes   \n",
              "3    Male           0.0      No         No     45           No   \n",
              "4  Female           0.0      No         No      2          Yes   \n",
              "\n",
              "      MultipleLines InternetService OnlineSecurity OnlineBackup  \\\n",
              "0  No phone service             DSL             No          Yes   \n",
              "1                No             DSL            Yes           No   \n",
              "2                No             DSL            Yes          Yes   \n",
              "3  No phone service             DSL            Yes           No   \n",
              "4                No     Fiber optic             No           No   \n",
              "\n",
              "  DeviceProtection TechSupport StreamingTV StreamingMovies        Contract  \\\n",
              "0               No          No          No              No             NaN   \n",
              "1              Yes          No          No              No        One year   \n",
              "2              NaN          No          No              No  Month-to-month   \n",
              "3              NaN         Yes          No              No        One year   \n",
              "4              NaN          No          No              No  Month-to-month   \n",
              "\n",
              "  PaperlessBilling              PaymentMethod MonthlyCharges  TotalCharges  \\\n",
              "0              Yes           Electronic check          29.85         29.85   \n",
              "1               No               Mailed check          56.95       1889.50   \n",
              "2              Yes               Mailed check          53.85        108.15   \n",
              "3               No  Bank transfer (automatic)           42.3       1840.75   \n",
              "4              Yes           Electronic check           70.7        151.65   \n",
              "\n",
              "  Churn  \n",
              "0    No  \n",
              "1    No  \n",
              "2   Yes  \n",
              "3    No  \n",
              "4   Yes  "
            ]
          },
          "execution_count": 21,
          "metadata": {},
          "output_type": "execute_result"
        }
      ],
      "source": [
        "# 여기에 답안코드를 작성하세요.\n",
        "print(df1['TotalCharges'].dtype)\n",
        "df1.loc[df1['TotalCharges']==' '] = '0'\n",
        "df2 = df1.astype({'TotalCharges':'float64'})\n",
        "df2.head()"
      ]
    },
    {
      "cell_type": "markdown",
      "id": "c7ba7823-db7b-409c-91a2-13519680b52c",
      "metadata": {
        "id": "c7ba7823-db7b-409c-91a2-13519680b52c"
      },
      "source": [
        "### 6. df2에서 Churn 컬럼의 데이터별 개수를 확인하는 코드를 작성하고 df2를 df3에 저장하세요.\n",
        "### df2의 Churn 컬럼의 Yes, No를 각각 1, 0으로 변환한 후 df3의 Churn 컬럼에 저장하세요."
      ]
    },
    {
      "cell_type": "code",
      "execution_count": null,
      "id": "414a676e-0392-4e52-a8fa-bc4dd71482b8",
      "metadata": {
        "id": "414a676e-0392-4e52-a8fa-bc4dd71482b8",
        "outputId": "77c642e0-f36b-4a7b-97ca-d367b4623541"
      },
      "outputs": [
        {
          "data": {
            "text/plain": [
              "Churn\n",
              "No     5163\n",
              "Yes    1869\n",
              "0        11\n",
              "Name: count, dtype: int64"
            ]
          },
          "metadata": {},
          "output_type": "display_data"
        },
        {
          "data": {
            "text/html": [
              "<div>\n",
              "<style scoped>\n",
              "    .dataframe tbody tr th:only-of-type {\n",
              "        vertical-align: middle;\n",
              "    }\n",
              "\n",
              "    .dataframe tbody tr th {\n",
              "        vertical-align: top;\n",
              "    }\n",
              "\n",
              "    .dataframe thead th {\n",
              "        text-align: right;\n",
              "    }\n",
              "</style>\n",
              "<table border=\"1\" class=\"dataframe\">\n",
              "  <thead>\n",
              "    <tr style=\"text-align: right;\">\n",
              "      <th></th>\n",
              "      <th>gender</th>\n",
              "      <th>SeniorCitizen</th>\n",
              "      <th>Partner</th>\n",
              "      <th>Dependents</th>\n",
              "      <th>tenure</th>\n",
              "      <th>PhoneService</th>\n",
              "      <th>MultipleLines</th>\n",
              "      <th>InternetService</th>\n",
              "      <th>OnlineSecurity</th>\n",
              "      <th>OnlineBackup</th>\n",
              "      <th>DeviceProtection</th>\n",
              "      <th>TechSupport</th>\n",
              "      <th>StreamingTV</th>\n",
              "      <th>StreamingMovies</th>\n",
              "      <th>Contract</th>\n",
              "      <th>PaperlessBilling</th>\n",
              "      <th>PaymentMethod</th>\n",
              "      <th>MonthlyCharges</th>\n",
              "      <th>TotalCharges</th>\n",
              "      <th>Churn</th>\n",
              "    </tr>\n",
              "  </thead>\n",
              "  <tbody>\n",
              "    <tr>\n",
              "      <th>0</th>\n",
              "      <td>NaN</td>\n",
              "      <td>0.0</td>\n",
              "      <td>Yes</td>\n",
              "      <td>No</td>\n",
              "      <td>1</td>\n",
              "      <td>No</td>\n",
              "      <td>No phone service</td>\n",
              "      <td>DSL</td>\n",
              "      <td>No</td>\n",
              "      <td>Yes</td>\n",
              "      <td>No</td>\n",
              "      <td>No</td>\n",
              "      <td>No</td>\n",
              "      <td>No</td>\n",
              "      <td>NaN</td>\n",
              "      <td>Yes</td>\n",
              "      <td>Electronic check</td>\n",
              "      <td>29.85</td>\n",
              "      <td>29.85</td>\n",
              "      <td>0.0</td>\n",
              "    </tr>\n",
              "    <tr>\n",
              "      <th>1</th>\n",
              "      <td>Male</td>\n",
              "      <td>0.0</td>\n",
              "      <td>No</td>\n",
              "      <td>No</td>\n",
              "      <td>34</td>\n",
              "      <td>Yes</td>\n",
              "      <td>No</td>\n",
              "      <td>DSL</td>\n",
              "      <td>Yes</td>\n",
              "      <td>No</td>\n",
              "      <td>Yes</td>\n",
              "      <td>No</td>\n",
              "      <td>No</td>\n",
              "      <td>No</td>\n",
              "      <td>One year</td>\n",
              "      <td>No</td>\n",
              "      <td>Mailed check</td>\n",
              "      <td>56.95</td>\n",
              "      <td>1889.50</td>\n",
              "      <td>0.0</td>\n",
              "    </tr>\n",
              "    <tr>\n",
              "      <th>2</th>\n",
              "      <td>Male</td>\n",
              "      <td>0.0</td>\n",
              "      <td>No</td>\n",
              "      <td>No</td>\n",
              "      <td>2</td>\n",
              "      <td>Yes</td>\n",
              "      <td>No</td>\n",
              "      <td>DSL</td>\n",
              "      <td>Yes</td>\n",
              "      <td>Yes</td>\n",
              "      <td>NaN</td>\n",
              "      <td>No</td>\n",
              "      <td>No</td>\n",
              "      <td>No</td>\n",
              "      <td>Month-to-month</td>\n",
              "      <td>Yes</td>\n",
              "      <td>Mailed check</td>\n",
              "      <td>53.85</td>\n",
              "      <td>108.15</td>\n",
              "      <td>1.0</td>\n",
              "    </tr>\n",
              "    <tr>\n",
              "      <th>3</th>\n",
              "      <td>Male</td>\n",
              "      <td>0.0</td>\n",
              "      <td>No</td>\n",
              "      <td>No</td>\n",
              "      <td>45</td>\n",
              "      <td>No</td>\n",
              "      <td>No phone service</td>\n",
              "      <td>DSL</td>\n",
              "      <td>Yes</td>\n",
              "      <td>No</td>\n",
              "      <td>NaN</td>\n",
              "      <td>Yes</td>\n",
              "      <td>No</td>\n",
              "      <td>No</td>\n",
              "      <td>One year</td>\n",
              "      <td>No</td>\n",
              "      <td>Bank transfer (automatic)</td>\n",
              "      <td>42.3</td>\n",
              "      <td>1840.75</td>\n",
              "      <td>0.0</td>\n",
              "    </tr>\n",
              "    <tr>\n",
              "      <th>4</th>\n",
              "      <td>Female</td>\n",
              "      <td>0.0</td>\n",
              "      <td>No</td>\n",
              "      <td>No</td>\n",
              "      <td>2</td>\n",
              "      <td>Yes</td>\n",
              "      <td>No</td>\n",
              "      <td>Fiber optic</td>\n",
              "      <td>No</td>\n",
              "      <td>No</td>\n",
              "      <td>NaN</td>\n",
              "      <td>No</td>\n",
              "      <td>No</td>\n",
              "      <td>No</td>\n",
              "      <td>Month-to-month</td>\n",
              "      <td>Yes</td>\n",
              "      <td>Electronic check</td>\n",
              "      <td>70.7</td>\n",
              "      <td>151.65</td>\n",
              "      <td>1.0</td>\n",
              "    </tr>\n",
              "  </tbody>\n",
              "</table>\n",
              "</div>"
            ],
            "text/plain": [
              "   gender SeniorCitizen Partner Dependents tenure PhoneService  \\\n",
              "0     NaN           0.0     Yes         No      1           No   \n",
              "1    Male           0.0      No         No     34          Yes   \n",
              "2    Male           0.0      No         No      2          Yes   \n",
              "3    Male           0.0      No         No     45           No   \n",
              "4  Female           0.0      No         No      2          Yes   \n",
              "\n",
              "      MultipleLines InternetService OnlineSecurity OnlineBackup  \\\n",
              "0  No phone service             DSL             No          Yes   \n",
              "1                No             DSL            Yes           No   \n",
              "2                No             DSL            Yes          Yes   \n",
              "3  No phone service             DSL            Yes           No   \n",
              "4                No     Fiber optic             No           No   \n",
              "\n",
              "  DeviceProtection TechSupport StreamingTV StreamingMovies        Contract  \\\n",
              "0               No          No          No              No             NaN   \n",
              "1              Yes          No          No              No        One year   \n",
              "2              NaN          No          No              No  Month-to-month   \n",
              "3              NaN         Yes          No              No        One year   \n",
              "4              NaN          No          No              No  Month-to-month   \n",
              "\n",
              "  PaperlessBilling              PaymentMethod MonthlyCharges  TotalCharges  \\\n",
              "0              Yes           Electronic check          29.85         29.85   \n",
              "1               No               Mailed check          56.95       1889.50   \n",
              "2              Yes               Mailed check          53.85        108.15   \n",
              "3               No  Bank transfer (automatic)           42.3       1840.75   \n",
              "4              Yes           Electronic check           70.7        151.65   \n",
              "\n",
              "   Churn  \n",
              "0    0.0  \n",
              "1    0.0  \n",
              "2    1.0  \n",
              "3    0.0  \n",
              "4    1.0  "
            ]
          },
          "execution_count": 23,
          "metadata": {},
          "output_type": "execute_result"
        }
      ],
      "source": [
        "# 여기에 답안코드를 작성하세요.\n",
        "display(df2['Churn'].value_counts())\n",
        "df2['Churn'] = df2['Churn'].map({\n",
        "    \"Yes\" : 1,\n",
        "    \"No\" : 0\n",
        "})\n",
        "df3 = df2\n",
        "df3.head()"
      ]
    },
    {
      "cell_type": "markdown",
      "id": "43d2735b-8ba6-44c9-9e08-6c53002f1b46",
      "metadata": {
        "id": "43d2735b-8ba6-44c9-9e08-6c53002f1b46"
      },
      "source": [
        "<br>"
      ]
    },
    {
      "cell_type": "markdown",
      "id": "f086ac8c-cef8-4944-a518-81fc042b1444",
      "metadata": {
        "id": "f086ac8c-cef8-4944-a518-81fc042b1444"
      },
      "source": [
        "### 7. df3의 모든 컬럼에 대해 결측치를 확인하는 코드를 작성하고 결측치를 처리하세요.\n",
        "* df3을 df4에 저장하세요.\n",
        "* df4의 결측치가 40% 이상인 컬럼은 컬럼을 삭제하세요.\n",
        "* df4의 결측치가 40% 미만인 컬럼은 결측치가 있는 row를 삭제하세요."
      ]
    },
    {
      "cell_type": "code",
      "execution_count": null,
      "id": "ccc8da5a-221a-4c13-ab4e-792264ea48a8",
      "metadata": {
        "id": "ccc8da5a-221a-4c13-ab4e-792264ea48a8"
      },
      "outputs": [],
      "source": [
        "# 여기에 답안코드를 작성하세요.\n",
        "df4 = df3\n",
        "for col in df4.columns:\n",
        "    ratio = df4[col].isnull().sum() / len(df3)\n",
        "    if ratio >= 0.4:\n",
        "        df4.drop(columns=col, axis=1,inplace=True)\n",
        "\n",
        "#40%미만 칼럼의 결측치있는 row 모두 삭제 => 전체중 결측치 있는 row 삭제\n",
        "df4 = df4.dropna()"
      ]
    },
    {
      "cell_type": "code",
      "execution_count": null,
      "id": "600a5e44-dbc7-4be6-9b7f-3e83a7e1da2f",
      "metadata": {
        "id": "600a5e44-dbc7-4be6-9b7f-3e83a7e1da2f"
      },
      "outputs": [],
      "source": [
        "#df4.isnull().mean()"
      ]
    },
    {
      "cell_type": "markdown",
      "id": "89504453-42cb-4026-a674-5c60167afa33",
      "metadata": {
        "id": "89504453-42cb-4026-a674-5c60167afa33"
      },
      "source": [
        "### 8. df4에서 SeniorCitizen 컬럼을 bar 차트로 확인해보고 불균형을 확인해보세요.\n",
        "### SeniorCitizen 컬럼은 불균형이 심하므로 삭제하세요."
      ]
    },
    {
      "cell_type": "code",
      "execution_count": null,
      "id": "7573f7e1-eeb9-436b-8fb4-af7ba4872782",
      "metadata": {
        "id": "7573f7e1-eeb9-436b-8fb4-af7ba4872782",
        "outputId": "52df15c9-6870-427d-c89b-fdfc3860d17a"
      },
      "outputs": [
        {
          "data": {
            "image/png": "[encoded data removed]",
            "text/plain": [
              "<Figure size 640x480 with 1 Axes>"
            ]
          },
          "metadata": {},
          "output_type": "display_data"
        },
        {
          "data": {
            "text/html": [
              "<div>\n",
              "<style scoped>\n",
              "    .dataframe tbody tr th:only-of-type {\n",
              "        vertical-align: middle;\n",
              "    }\n",
              "\n",
              "    .dataframe tbody tr th {\n",
              "        vertical-align: top;\n",
              "    }\n",
              "\n",
              "    .dataframe thead th {\n",
              "        text-align: right;\n",
              "    }\n",
              "</style>\n",
              "<table border=\"1\" class=\"dataframe\">\n",
              "  <thead>\n",
              "    <tr style=\"text-align: right;\">\n",
              "      <th></th>\n",
              "      <th>gender</th>\n",
              "      <th>SeniorCitizen</th>\n",
              "      <th>Partner</th>\n",
              "      <th>Dependents</th>\n",
              "      <th>tenure</th>\n",
              "      <th>PhoneService</th>\n",
              "      <th>MultipleLines</th>\n",
              "      <th>InternetService</th>\n",
              "      <th>OnlineSecurity</th>\n",
              "      <th>OnlineBackup</th>\n",
              "      <th>TechSupport</th>\n",
              "      <th>StreamingTV</th>\n",
              "      <th>StreamingMovies</th>\n",
              "      <th>Contract</th>\n",
              "      <th>PaperlessBilling</th>\n",
              "      <th>PaymentMethod</th>\n",
              "      <th>MonthlyCharges</th>\n",
              "      <th>TotalCharges</th>\n",
              "      <th>Churn</th>\n",
              "    </tr>\n",
              "  </thead>\n",
              "  <tbody>\n",
              "    <tr>\n",
              "      <th>1</th>\n",
              "      <td>Male</td>\n",
              "      <td>0.0</td>\n",
              "      <td>No</td>\n",
              "      <td>No</td>\n",
              "      <td>34</td>\n",
              "      <td>Yes</td>\n",
              "      <td>No</td>\n",
              "      <td>DSL</td>\n",
              "      <td>Yes</td>\n",
              "      <td>No</td>\n",
              "      <td>No</td>\n",
              "      <td>No</td>\n",
              "      <td>No</td>\n",
              "      <td>One year</td>\n",
              "      <td>No</td>\n",
              "      <td>Mailed check</td>\n",
              "      <td>56.95</td>\n",
              "      <td>1889.50</td>\n",
              "      <td>0.0</td>\n",
              "    </tr>\n",
              "    <tr>\n",
              "      <th>2</th>\n",
              "      <td>Male</td>\n",
              "      <td>0.0</td>\n",
              "      <td>No</td>\n",
              "      <td>No</td>\n",
              "      <td>2</td>\n",
              "      <td>Yes</td>\n",
              "      <td>No</td>\n",
              "      <td>DSL</td>\n",
              "      <td>Yes</td>\n",
              "      <td>Yes</td>\n",
              "      <td>No</td>\n",
              "      <td>No</td>\n",
              "      <td>No</td>\n",
              "      <td>Month-to-month</td>\n",
              "      <td>Yes</td>\n",
              "      <td>Mailed check</td>\n",
              "      <td>53.85</td>\n",
              "      <td>108.15</td>\n",
              "      <td>1.0</td>\n",
              "    </tr>\n",
              "    <tr>\n",
              "      <th>3</th>\n",
              "      <td>Male</td>\n",
              "      <td>0.0</td>\n",
              "      <td>No</td>\n",
              "      <td>No</td>\n",
              "      <td>45</td>\n",
              "      <td>No</td>\n",
              "      <td>No phone service</td>\n",
              "      <td>DSL</td>\n",
              "      <td>Yes</td>\n",
              "      <td>No</td>\n",
              "      <td>Yes</td>\n",
              "      <td>No</td>\n",
              "      <td>No</td>\n",
              "      <td>One year</td>\n",
              "      <td>No</td>\n",
              "      <td>Bank transfer (automatic)</td>\n",
              "      <td>42.3</td>\n",
              "      <td>1840.75</td>\n",
              "      <td>0.0</td>\n",
              "    </tr>\n",
              "    <tr>\n",
              "      <th>4</th>\n",
              "      <td>Female</td>\n",
              "      <td>0.0</td>\n",
              "      <td>No</td>\n",
              "      <td>No</td>\n",
              "      <td>2</td>\n",
              "      <td>Yes</td>\n",
              "      <td>No</td>\n",
              "      <td>Fiber optic</td>\n",
              "      <td>No</td>\n",
              "      <td>No</td>\n",
              "      <td>No</td>\n",
              "      <td>No</td>\n",
              "      <td>No</td>\n",
              "      <td>Month-to-month</td>\n",
              "      <td>Yes</td>\n",
              "      <td>Electronic check</td>\n",
              "      <td>70.7</td>\n",
              "      <td>151.65</td>\n",
              "      <td>1.0</td>\n",
              "    </tr>\n",
              "    <tr>\n",
              "      <th>5</th>\n",
              "      <td>Female</td>\n",
              "      <td>0.0</td>\n",
              "      <td>No</td>\n",
              "      <td>No</td>\n",
              "      <td>8</td>\n",
              "      <td>Yes</td>\n",
              "      <td>Yes</td>\n",
              "      <td>Fiber optic</td>\n",
              "      <td>No</td>\n",
              "      <td>No</td>\n",
              "      <td>No</td>\n",
              "      <td>Yes</td>\n",
              "      <td>Yes</td>\n",
              "      <td>Month-to-month</td>\n",
              "      <td>Yes</td>\n",
              "      <td>Electronic check</td>\n",
              "      <td>99.65</td>\n",
              "      <td>820.50</td>\n",
              "      <td>1.0</td>\n",
              "    </tr>\n",
              "  </tbody>\n",
              "</table>\n",
              "</div>"
            ],
            "text/plain": [
              "   gender SeniorCitizen Partner Dependents tenure PhoneService  \\\n",
              "1    Male           0.0      No         No     34          Yes   \n",
              "2    Male           0.0      No         No      2          Yes   \n",
              "3    Male           0.0      No         No     45           No   \n",
              "4  Female           0.0      No         No      2          Yes   \n",
              "5  Female           0.0      No         No      8          Yes   \n",
              "\n",
              "      MultipleLines InternetService OnlineSecurity OnlineBackup TechSupport  \\\n",
              "1                No             DSL            Yes           No          No   \n",
              "2                No             DSL            Yes          Yes          No   \n",
              "3  No phone service             DSL            Yes           No         Yes   \n",
              "4                No     Fiber optic             No           No          No   \n",
              "5               Yes     Fiber optic             No           No          No   \n",
              "\n",
              "  StreamingTV StreamingMovies        Contract PaperlessBilling  \\\n",
              "1          No              No        One year               No   \n",
              "2          No              No  Month-to-month              Yes   \n",
              "3          No              No        One year               No   \n",
              "4          No              No  Month-to-month              Yes   \n",
              "5         Yes             Yes  Month-to-month              Yes   \n",
              "\n",
              "               PaymentMethod MonthlyCharges  TotalCharges  Churn  \n",
              "1               Mailed check          56.95       1889.50    0.0  \n",
              "2               Mailed check          53.85        108.15    1.0  \n",
              "3  Bank transfer (automatic)           42.3       1840.75    0.0  \n",
              "4           Electronic check           70.7        151.65    1.0  \n",
              "5           Electronic check          99.65        820.50    1.0  "
            ]
          },
          "execution_count": 29,
          "metadata": {},
          "output_type": "execute_result"
        }
      ],
      "source": [
        "# 여기에 답안코드를 작성하세요.\n",
        "import matplotlib.pyplot as plt\n",
        "import seaborn as sns\n",
        "\n",
        "t = df4['SeniorCitizen'].value_counts()\n",
        "sns.barplot(t)\n",
        "plt.show()\n",
        "\n",
        "df4.drop(columns='SeniorCitizen',axis=1)\n",
        "df4.head()"
      ]
    },
    {
      "cell_type": "markdown",
      "id": "2364a91e-b4d4-4471-8171-82cd7a87cb25",
      "metadata": {
        "id": "2364a91e-b4d4-4471-8171-82cd7a87cb25"
      },
      "source": [
        "### 9. df4에서 다음의 가이드에 따라 데이터를 시각화 해보세요.\n",
        "* tenure (서비스 사용기간)에 대해 히스토그램으로 시각화 하세요.\n",
        "* tenure를 x 값으로 churn을 hue 값으로 사용하여 kdeplot으로 시각화 하고 '서비스 사용기간이 길어질 수록 이탈이 적다'에 대해 'O'인지 'X'인지 출력하세요.\n",
        "* 'tenure','MonthlyCharges','TotalCharges' 컬럼간의 상관관계를 확인하여 heatmap으로 시각화하고 가장 높은 상관계수 값을 출력하세요."
      ]
    },
    {
      "cell_type": "code",
      "execution_count": null,
      "id": "5bb1f09a-cb22-4ade-b3d9-47fa7eab841a",
      "metadata": {
        "id": "5bb1f09a-cb22-4ade-b3d9-47fa7eab841a",
        "outputId": "aff65ed2-47e0-48d1-aacb-f91f0b6966b8"
      },
      "outputs": [
        {
          "data": {
            "image/png": "[encoded data removed]",
            "text/plain": [
              "<Figure size 640x480 with 1 Axes>"
            ]
          },
          "metadata": {},
          "output_type": "display_data"
        },
        {
          "name": "stderr",
          "output_type": "stream",
          "text": [
            "C:\\Users\\User\\AppData\\Local\\Temp\\ipykernel_18732\\2916961583.py:4: SettingWithCopyWarning: \n",
            "A value is trying to be set on a copy of a slice from a DataFrame.\n",
            "Try using .loc[row_indexer,col_indexer] = value instead\n",
            "\n",
            "See the caveats in the documentation: https://pandas.pydata.org/pandas-docs/stable/user_guide/indexing.html#returning-a-view-versus-a-copy\n",
            "  df4['tenure'] = df4['tenure'].astype('float')\n"
          ]
        },
        {
          "data": {
            "image/png": "[encoded data removed]",
            "text/plain": [
              "<Figure size 640x480 with 1 Axes>"
            ]
          },
          "metadata": {},
          "output_type": "display_data"
        },
        {
          "name": "stdout",
          "output_type": "stream",
          "text": [
            "서비스 사용기간이 길어질 수록 이탈이 적다  O\n"
          ]
        },
        {
          "data": {
            "image/png": "[encoded data removed]",
            "text/plain": [
              "<Figure size 640x480 with 2 Axes>"
            ]
          },
          "metadata": {},
          "output_type": "display_data"
        },
        {
          "name": "stdout",
          "output_type": "stream",
          "text": [
            "가장 높은 상관계수 0.83\n"
          ]
        }
      ],
      "source": [
        "# 여기에 답안코드를 작성하세요.\n",
        "plt.hist(df.tenure)\n",
        "plt.show()\n",
        "df4['tenure'] = df4['tenure'].astype('float')\n",
        "sns.kdeplot(x='tenure', data=df4, hue='Churn')\n",
        "plt.show()\n",
        "print(\"서비스 사용기간이 길어질 수록 이탈이 적다 \",\"O\")\n",
        "sns.heatmap(\n",
        "    df4[['tenure','MonthlyCharges','TotalCharges']].corr()\n",
        "    ,annot=True)\n",
        "plt.show()\n",
        "print(\"가장 높은 상관계수 0.83\")"
      ]
    },
    {
      "cell_type": "markdown",
      "id": "6b01b0e7-30e3-4a64-8e6a-1e45507a8262",
      "metadata": {
        "id": "6b01b0e7-30e3-4a64-8e6a-1e45507a8262"
      },
      "source": [
        "### 10. df4에서 컬럼의 데이터 타입이 object인 컬럼들을 원-핫 인코딩하세요.\n",
        "* 컬럼의 데이터 타입이 object인 컬럼들을 object_cols 변수에 저장하세요.\n",
        "* object_cols 변수의 컬럼들을 원-핫 인코딩하세요.\n",
        "* 전처리된 데이터를 df5에 저장하세요."
      ]
    },
    {
      "cell_type": "code",
      "execution_count": null,
      "id": "b24dc682-36b5-4872-9a4b-1f45010ed081",
      "metadata": {
        "id": "b24dc682-36b5-4872-9a4b-1f45010ed081",
        "outputId": "f1f4a854-89d4-471a-a0a4-1a42388dd021"
      },
      "outputs": [
        {
          "data": {
            "text/plain": [
              "Index(['gender', 'SeniorCitizen', 'Partner', 'Dependents', 'PhoneService',\n",
              "       'MultipleLines', 'InternetService', 'OnlineSecurity', 'OnlineBackup',\n",
              "       'TechSupport', 'StreamingTV', 'StreamingMovies', 'Contract',\n",
              "       'PaperlessBilling', 'PaymentMethod', 'MonthlyCharges'],\n",
              "      dtype='object')"
            ]
          },
          "execution_count": 33,
          "metadata": {},
          "output_type": "execute_result"
        }
      ],
      "source": [
        "df4.dtypes[df4.dtypes==\"object\"].index"
      ]
    },
    {
      "cell_type": "code",
      "execution_count": null,
      "id": "a575f3bc-6f6d-42ae-b18c-f3276a4b479e",
      "metadata": {
        "id": "a575f3bc-6f6d-42ae-b18c-f3276a4b479e",
        "outputId": "276d07fa-2b6c-4831-f140-6fabdf739a93"
      },
      "outputs": [
        {
          "data": {
            "text/plain": [
              "Index(['gender', 'SeniorCitizen', 'Partner', 'Dependents', 'PhoneService',\n",
              "       'MultipleLines', 'InternetService', 'OnlineSecurity', 'OnlineBackup',\n",
              "       'TechSupport', 'StreamingTV', 'StreamingMovies', 'Contract',\n",
              "       'PaperlessBilling', 'PaymentMethod', 'MonthlyCharges'],\n",
              "      dtype='object')"
            ]
          },
          "execution_count": 60,
          "metadata": {},
          "output_type": "execute_result"
        }
      ],
      "source": [
        "df4.select_dtypes(include='object').columns"
      ]
    },
    {
      "cell_type": "code",
      "execution_count": null,
      "id": "da848455-7b93-47fd-8ac4-d844b2a4e7be",
      "metadata": {
        "tags": [],
        "id": "da848455-7b93-47fd-8ac4-d844b2a4e7be"
      },
      "outputs": [],
      "source": [
        "# 여기에 답안코드를 작성하세요.\n",
        "# df4.dtypes[df4.dtypes==\"object\"].index\n",
        "\"\"\"\n",
        "Index(['gender', 'SeniorCitizen', 'Partner', 'Dependents', 'tenure',\n",
        "       'PhoneService', 'MultipleLines', 'InternetService', 'OnlineSecurity',\n",
        "       'OnlineBackup', 'TechSupport', 'StreamingTV', 'StreamingMovies',\n",
        "       'Contract', 'PaperlessBilling', 'PaymentMethod', 'MonthlyCharges'],\n",
        "      dtype='object')\n",
        "\"\"\"\n",
        "object_cols = []\n",
        "for col in df4.columns:\n",
        "    if df4[col].dtype == 'O':\n",
        "        object_cols.append(col)\n",
        "\n",
        "df5 = pd.get_dummies(df4, columns = object_cols, drop_first = True)"
      ]
    },
    {
      "cell_type": "markdown",
      "id": "8fb3c92a-4027-4076-bdb0-6f3bda7da917",
      "metadata": {
        "id": "8fb3c92a-4027-4076-bdb0-6f3bda7da917"
      },
      "source": [
        "### 11. df5에 대해 Scikit-learn의 train_test_split 함수로 훈련, 검증 데이터를 분리하세요.\n",
        "* 입력 : X, y (y에는 churn을 저장하고 X에는 churn을 제외한 나머지를 저장하세요)\n",
        "* Train : Test 비율 = 8:2\n",
        "* y Class 비율에 맞게 나누는 옵션을 추가하세요.\n",
        "* random_state=42 로 설정하세요.\n",
        "* 결과 : X_train, X_valid, y_train, y_valid에 저장하세요."
      ]
    },
    {
      "cell_type": "code",
      "execution_count": null,
      "id": "8901a3f2-3839-4831-afeb-fd2877eef954",
      "metadata": {
        "id": "8901a3f2-3839-4831-afeb-fd2877eef954"
      },
      "outputs": [],
      "source": [
        "# 여기에 답안코드를 작성하세요.\n",
        "from sklearn.model_selection import train_test_split\n",
        "target = 'Churn'\n",
        "\n",
        "x = df5.drop(columns=target)\n",
        "y = df5.loc[:,target]\n",
        "x_train, x_valid, y_train, y_valid = train_test_split(x, y, test_size=0.2,random_state=42, stratify=y)"
      ]
    },
    {
      "cell_type": "markdown",
      "id": "1ccbcefa-d9b4-454f-b82a-f755d5f16283",
      "metadata": {
        "id": "1ccbcefa-d9b4-454f-b82a-f755d5f16283"
      },
      "source": [
        "### 12. MinMaxScaler 함수를 'scaler'로 정의하고 데이터를 정규화하세요."
      ]
    },
    {
      "cell_type": "code",
      "execution_count": null,
      "id": "8a8b9d20-a680-4000-9b3a-aadfe5d6cb02",
      "metadata": {
        "id": "8a8b9d20-a680-4000-9b3a-aadfe5d6cb02"
      },
      "outputs": [],
      "source": [
        "# 여기에 답안코드를 작성하세요.\n",
        "from sklearn.preprocessing import MinMaxScaler\n",
        "sc = MinMaxScaler()\n",
        "\n",
        "x_train = sc.fit_transform(x_train)\n",
        "x_valid = sc.transform(x_valid)"
      ]
    },
    {
      "cell_type": "markdown",
      "id": "e897fb3e-1364-4445-ac10-920f82ae4232",
      "metadata": {
        "id": "e897fb3e-1364-4445-ac10-920f82ae4232"
      },
      "source": [
        "### 13. 고객 이탈 여부를 예측하는 머신러닝 모델을 만들려고 합니다.\n",
        "### 아래 가이드에 따라 모델링하고 학습을 진행하세요.\n",
        "* LogisticRegression 모델 정의하고 학습시키세요.\n",
        "* KNN으로 모델을 정의하고 학습시키세요. (n_neighbors=5)\n",
        "* Decision Tree로 모델을 정의하고 학습시키세요. (max_depth=10, random_state=42)\n",
        "* RandomForest로 모델을 정의하고 학습시키세요. (n_estimators=3, random_state=42)\n",
        "* XGBoost로 모델을 정의하고 학습시키세요. (n_estimators=3, random_state=42)  \n",
        "* Light GBM으로 모델을 정의하고 학습시키세요. (n_estimators=3, random_state=42)  \n",
        "* 각각 다른 셀에 답안코드를 작성하세요."
      ]
    },
    {
      "cell_type": "code",
      "execution_count": null,
      "id": "3f9afe4d-fc0a-4fef-a644-3e72dd03aee9",
      "metadata": {
        "id": "3f9afe4d-fc0a-4fef-a644-3e72dd03aee9",
        "outputId": "32883b44-bd2e-4d76-8a76-939af232fb61"
      },
      "outputs": [
        {
          "data": {
            "text/plain": [
              "0.7799145299145299"
            ]
          },
          "execution_count": 469,
          "metadata": {},
          "output_type": "execute_result"
        }
      ],
      "source": [
        "# 여기에 답안코드를 작성하세요.\n",
        "from sklearn.linear_model import LogisticRegression\n",
        "from sklearn.metrics import *\n",
        "\n",
        "model_logi = LogisticRegression()\n",
        "model_logi.fit(x_train, y_train)\n",
        "model_logi.score(x_valid, y_valid)"
      ]
    },
    {
      "cell_type": "code",
      "execution_count": null,
      "id": "fdd890b9-b12c-40ef-a2aa-629e1fa9105a",
      "metadata": {
        "id": "fdd890b9-b12c-40ef-a2aa-629e1fa9105a",
        "outputId": "b43b7557-24e4-4eda-c187-9083035d16c8"
      },
      "outputs": [
        {
          "data": {
            "text/plain": [
              "0.7592592592592593"
            ]
          },
          "execution_count": 470,
          "metadata": {},
          "output_type": "execute_result"
        }
      ],
      "source": [
        "# 여기에 답안코드를 작성하세요.\n",
        "from sklearn.neighbors import KNeighborsClassifier\n",
        "\n",
        "model_knn = KNeighborsClassifier(n_neighbors=5)\n",
        "model_knn.fit(x_train, y_train)\n",
        "model_knn.score(x_valid, y_valid)"
      ]
    },
    {
      "cell_type": "code",
      "execution_count": null,
      "id": "6adcd304-bd2f-4623-b0da-3c632da8c91b",
      "metadata": {
        "id": "6adcd304-bd2f-4623-b0da-3c632da8c91b",
        "outputId": "cc09d9bc-2ea3-4ca1-a7c2-14507a72d424"
      },
      "outputs": [
        {
          "data": {
            "text/plain": [
              "0.7813390313390314"
            ]
          },
          "execution_count": 471,
          "metadata": {},
          "output_type": "execute_result"
        }
      ],
      "source": [
        "# 여기에 답안코드를 작성하세요.\n",
        "from sklearn.tree import DecisionTreeClassifier\n",
        "\n",
        "model_tree = DecisionTreeClassifier(max_depth = 10, random_state=42)\n",
        "model_tree.fit(x_train, y_train)\n",
        "model_tree.score(x_valid, y_valid)"
      ]
    },
    {
      "cell_type": "code",
      "execution_count": null,
      "id": "24c4a98c-e131-4d4d-b2e4-f504a3d593f4",
      "metadata": {
        "id": "24c4a98c-e131-4d4d-b2e4-f504a3d593f4",
        "outputId": "0f4a9a95-724c-40d1-ff44-0da5ec1359fc"
      },
      "outputs": [
        {
          "data": {
            "text/plain": [
              "0.7535612535612536"
            ]
          },
          "execution_count": 473,
          "metadata": {},
          "output_type": "execute_result"
        }
      ],
      "source": [
        "# 여기에 답안코드를 작성하세요.\n",
        "from sklearn.ensemble import RandomForestClassifier\n",
        "\n",
        "model_rand = RandomForestClassifier(\n",
        "    n_estimators=3,\n",
        "    random_state=42\n",
        ")\n",
        "model_rand.fit(x_train, y_train)\n",
        "model_rand.score(x_valid, y_valid)"
      ]
    },
    {
      "cell_type": "code",
      "execution_count": null,
      "id": "59d39690-cc4c-4c1b-85a9-ce0dabce51db",
      "metadata": {
        "id": "59d39690-cc4c-4c1b-85a9-ce0dabce51db",
        "outputId": "fe7b2a33-0240-4825-e100-d0e12198c23b"
      },
      "outputs": [
        {
          "data": {
            "text/plain": [
              "0.792022792022792"
            ]
          },
          "execution_count": 475,
          "metadata": {},
          "output_type": "execute_result"
        }
      ],
      "source": [
        "# 여기에 답안코드를 작성하세요.\n",
        "from xgboost import XGBClassifier\n",
        "model_xgb = XGBClassifier(n_estimators=3, random_state=42)\n",
        "model_xgb.fit(x_train, y_train)\n",
        "model_xgb.score(x_valid, y_valid)"
      ]
    },
    {
      "cell_type": "code",
      "execution_count": null,
      "id": "787ed8df-1639-44a9-9837-d9d78990f479",
      "metadata": {
        "id": "787ed8df-1639-44a9-9837-d9d78990f479",
        "outputId": "34241fb7-3890-4cbc-bc27-0b0cbfa9b06c"
      },
      "outputs": [
        {
          "name": "stdout",
          "output_type": "stream",
          "text": [
            "[LightGBM] [Info] Number of positive: 1493, number of negative: 4119\n",
            "[LightGBM] [Info] Auto-choosing row-wise multi-threading, the overhead of testing was 0.002466 seconds.\n",
            "You can set `force_row_wise=true` to remove the overhead.\n",
            "And if memory is not enough, you can set `force_col_wise=true`.\n",
            "[LightGBM] [Info] Total Bins 429\n",
            "[LightGBM] [Info] Number of data points in the train set: 5612, number of used features: 53\n",
            "[LightGBM] [Info] [binary:BoostFromScore]: pavg=0.266037 -> initscore=-1.014823\n",
            "[LightGBM] [Info] Start training from score -1.014823\n"
          ]
        },
        {
          "data": {
            "text/plain": [
              "0.7343304843304843"
            ]
          },
          "execution_count": 477,
          "metadata": {},
          "output_type": "execute_result"
        }
      ],
      "source": [
        "# 여기에 답안코드를 작성하세요.\n",
        "from lightgbm import LGBMClassifier\n",
        "model_lgb = LGBMClassifier(n_estimators=3, random_state=42)\n",
        "model_lgb.fit(x_train, y_train)\n",
        "model_lgb.score(x_valid, y_valid)"
      ]
    },
    {
      "cell_type": "markdown",
      "id": "91e435bf-c197-4157-b1b1-7238de931fec",
      "metadata": {
        "id": "91e435bf-c197-4157-b1b1-7238de931fec"
      },
      "source": [
        "### 14. 바로 위 Light GBM 모델의 성능을 평가하려고 합니다.\n",
        "### y값을 예측하여 confusion matrix를 구하고 heatmap 그래프로 시각화하세요.\n",
        "### 그리고 Scikit-learn의 classification_report를 활용하여 성능을 출력하세요."
      ]
    },
    {
      "cell_type": "code",
      "execution_count": null,
      "id": "0726cd47-5619-4c1a-a27a-d80a72df5096",
      "metadata": {
        "id": "0726cd47-5619-4c1a-a27a-d80a72df5096",
        "outputId": "5979476c-b4fc-49d7-85fb-abd2eff9f7e1"
      },
      "outputs": [
        {
          "name": "stdout",
          "output_type": "stream",
          "text": [
            "[[1031    0]\n",
            " [ 373    0]]\n",
            "              precision    recall  f1-score   support\n",
            "\n",
            "         0.0       0.73      1.00      0.85      1031\n",
            "         1.0       0.00      0.00      0.00       373\n",
            "\n",
            "    accuracy                           0.73      1404\n",
            "   macro avg       0.37      0.50      0.42      1404\n",
            "weighted avg       0.54      0.73      0.62      1404\n",
            "\n"
          ]
        },
        {
          "name": "stderr",
          "output_type": "stream",
          "text": [
            "C:\\Users\\User\\anaconda3\\Lib\\site-packages\\sklearn\\metrics\\_classification.py:1509: UndefinedMetricWarning: Precision is ill-defined and being set to 0.0 in labels with no predicted samples. Use `zero_division` parameter to control this behavior.\n",
            "  _warn_prf(average, modifier, f\"{metric.capitalize()} is\", len(result))\n",
            "C:\\Users\\User\\anaconda3\\Lib\\site-packages\\sklearn\\metrics\\_classification.py:1509: UndefinedMetricWarning: Precision is ill-defined and being set to 0.0 in labels with no predicted samples. Use `zero_division` parameter to control this behavior.\n",
            "  _warn_prf(average, modifier, f\"{metric.capitalize()} is\", len(result))\n",
            "C:\\Users\\User\\anaconda3\\Lib\\site-packages\\sklearn\\metrics\\_classification.py:1509: UndefinedMetricWarning: Precision is ill-defined and being set to 0.0 in labels with no predicted samples. Use `zero_division` parameter to control this behavior.\n",
            "  _warn_prf(average, modifier, f\"{metric.capitalize()} is\", len(result))\n"
          ]
        },
        {
          "data": {
            "image/png": "[encoded data removed]",
            "text/plain": [
              "<Figure size 640x480 with 2 Axes>"
            ]
          },
          "metadata": {},
          "output_type": "display_data"
        }
      ],
      "source": [
        "# 여기에 답안코드를 작성하세요.\n",
        "y_pred_lgb = model_lgb.predict(x_valid)\n",
        "result = confusion_matrix(y_valid, y_pred_lgb)\n",
        "print(result)\n",
        "sns.heatmap(result, annot=True)\n",
        "print(classification_report(y_valid, y_pred_lgb))"
      ]
    },
    {
      "cell_type": "markdown",
      "id": "9d72df85-cb80-4f1b-a4db-01ea5b4ec30d",
      "metadata": {
        "id": "9d72df85-cb80-4f1b-a4db-01ea5b4ec30d"
      },
      "source": [
        "##### **<span style=\"color:red\">다음 문항을 풀기 전에</span> 아래 코드를 실행하세요.**"
      ]
    },
    {
      "cell_type": "code",
      "execution_count": null,
      "id": "5f6e8b6d-f740-4d98-9189-78cdb98991d0",
      "metadata": {
        "id": "5f6e8b6d-f740-4d98-9189-78cdb98991d0"
      },
      "outputs": [],
      "source": [
        "import tensorflow as tf\n",
        "from tensorflow.keras.models import Sequential, load_model\n",
        "from tensorflow.keras.layers import Dense, Activation, Dropout, BatchNormalization, Input\n",
        "from tensorflow.keras.callbacks import EarlyStopping, ModelCheckpoint\n",
        "from tensorflow.keras.utils import to_categorical\n",
        "\n",
        "tf.random.set_seed(1)"
      ]
    },
    {
      "cell_type": "markdown",
      "id": "67187f70-3bea-4266-8b91-25e67c2b71c7",
      "metadata": {
        "id": "67187f70-3bea-4266-8b91-25e67c2b71c7"
      },
      "source": [
        "### 15. 고객 이탈여부를 예측하는 딥러닝 모델을 만들려고 합니다.\n",
        "### 아래 가이드에 따라 모델링하고 학습을 진행하세요.\n",
        "* Tensoflow framework를 사용하여 딥러닝 모델을 만드세요.\n",
        "* 히든레이어(hidden layer) 2개이상으로 모델을 구성하세요.\n",
        "* dropout 비율 0.2로 Dropout 레이어 1개를 추가해 주세요.\n",
        "* 하이퍼파라미터 epochs: 30, batch_size: 16으로 설정해주세요.\n",
        "* 각 에포크마다 loss와 metrics 평가하기 위한 데이터로 X_valid, y_valid 사용하세요.\n",
        "* 학습정보는 history 변수에 저장해주세요"
      ]
    },
    {
      "cell_type": "code",
      "execution_count": null,
      "id": "df129f00-16d9-427b-adef-af90f3ab177c",
      "metadata": {
        "id": "df129f00-16d9-427b-adef-af90f3ab177c",
        "outputId": "e2afed0b-7f8e-4573-8291-7367e182935c"
      },
      "outputs": [
        {
          "name": "stdout",
          "output_type": "stream",
          "text": [
            "Epoch 1/30\n",
            "\u001b[1m351/351\u001b[0m \u001b[32m━━━━━━━━━━━━━━━━━━━━\u001b[0m\u001b[37m\u001b[0m \u001b[1m6s\u001b[0m 7ms/step - accuracy: 0.7459 - loss: 0.5059 - val_accuracy: 0.7856 - val_loss: 0.4560\n",
            "Epoch 2/30\n",
            "\u001b[1m351/351\u001b[0m \u001b[32m━━━━━━━━━━━━━━━━━━━━\u001b[0m\u001b[37m\u001b[0m \u001b[1m2s\u001b[0m 5ms/step - accuracy: 0.8035 - loss: 0.4221 - val_accuracy: 0.7877 - val_loss: 0.4578\n",
            "Epoch 3/30\n",
            "\u001b[1m351/351\u001b[0m \u001b[32m━━━━━━━━━━━━━━━━━━━━\u001b[0m\u001b[37m\u001b[0m \u001b[1m2s\u001b[0m 6ms/step - accuracy: 0.8202 - loss: 0.3919 - val_accuracy: 0.7849 - val_loss: 0.4778\n",
            "Epoch 4/30\n",
            "\u001b[1m351/351\u001b[0m \u001b[32m━━━━━━━━━━━━━━━━━━━━\u001b[0m\u001b[37m\u001b[0m \u001b[1m2s\u001b[0m 5ms/step - accuracy: 0.8420 - loss: 0.3566 - val_accuracy: 0.7635 - val_loss: 0.5090\n",
            "Epoch 5/30\n",
            "\u001b[1m351/351\u001b[0m \u001b[32m━━━━━━━━━━━━━━━━━━━━\u001b[0m\u001b[37m\u001b[0m \u001b[1m3s\u001b[0m 5ms/step - accuracy: 0.8553 - loss: 0.3270 - val_accuracy: 0.7614 - val_loss: 0.5530\n",
            "Epoch 6/30\n",
            "\u001b[1m351/351\u001b[0m \u001b[32m━━━━━━━━━━━━━━━━━━━━\u001b[0m\u001b[37m\u001b[0m \u001b[1m2s\u001b[0m 5ms/step - accuracy: 0.8681 - loss: 0.3006 - val_accuracy: 0.7585 - val_loss: 0.5960\n",
            "Epoch 7/30\n",
            "\u001b[1m351/351\u001b[0m \u001b[32m━━━━━━━━━━━━━━━━━━━━\u001b[0m\u001b[37m\u001b[0m \u001b[1m2s\u001b[0m 5ms/step - accuracy: 0.8825 - loss: 0.2749 - val_accuracy: 0.7564 - val_loss: 0.6694\n",
            "Epoch 8/30\n",
            "\u001b[1m351/351\u001b[0m \u001b[32m━━━━━━━━━━━━━━━━━━━━\u001b[0m\u001b[37m\u001b[0m \u001b[1m2s\u001b[0m 5ms/step - accuracy: 0.8923 - loss: 0.2506 - val_accuracy: 0.7486 - val_loss: 0.7020\n",
            "Epoch 9/30\n",
            "\u001b[1m351/351\u001b[0m \u001b[32m━━━━━━━━━━━━━━━━━━━━\u001b[0m\u001b[37m\u001b[0m \u001b[1m2s\u001b[0m 5ms/step - accuracy: 0.9047 - loss: 0.2219 - val_accuracy: 0.7479 - val_loss: 0.7570\n",
            "Epoch 10/30\n",
            "\u001b[1m351/351\u001b[0m \u001b[32m━━━━━━━━━━━━━━━━━━━━\u001b[0m\u001b[37m\u001b[0m \u001b[1m2s\u001b[0m 5ms/step - accuracy: 0.9235 - loss: 0.1932 - val_accuracy: 0.7507 - val_loss: 0.8275\n",
            "Epoch 11/30\n",
            "\u001b[1m351/351\u001b[0m \u001b[32m━━━━━━━━━━━━━━━━━━━━\u001b[0m\u001b[37m\u001b[0m \u001b[1m2s\u001b[0m 5ms/step - accuracy: 0.9285 - loss: 0.1746 - val_accuracy: 0.7550 - val_loss: 0.8790\n",
            "Epoch 12/30\n",
            "\u001b[1m351/351\u001b[0m \u001b[32m━━━━━━━━━━━━━━━━━━━━\u001b[0m\u001b[37m\u001b[0m \u001b[1m3s\u001b[0m 5ms/step - accuracy: 0.9401 - loss: 0.1549 - val_accuracy: 0.7528 - val_loss: 0.9240\n",
            "Epoch 13/30\n",
            "\u001b[1m351/351\u001b[0m \u001b[32m━━━━━━━━━━━━━━━━━━━━\u001b[0m\u001b[37m\u001b[0m \u001b[1m3s\u001b[0m 5ms/step - accuracy: 0.9443 - loss: 0.1349 - val_accuracy: 0.7464 - val_loss: 1.0137\n",
            "Epoch 14/30\n",
            "\u001b[1m351/351\u001b[0m \u001b[32m━━━━━━━━━━━━━━━━━━━━\u001b[0m\u001b[37m\u001b[0m \u001b[1m3s\u001b[0m 5ms/step - accuracy: 0.9516 - loss: 0.1188 - val_accuracy: 0.7436 - val_loss: 1.0865\n",
            "Epoch 15/30\n",
            "\u001b[1m351/351\u001b[0m \u001b[32m━━━━━━━━━━━━━━━━━━━━\u001b[0m\u001b[37m\u001b[0m \u001b[1m2s\u001b[0m 5ms/step - accuracy: 0.9530 - loss: 0.1054 - val_accuracy: 0.7429 - val_loss: 1.1230\n",
            "Epoch 16/30\n",
            "\u001b[1m351/351\u001b[0m \u001b[32m━━━━━━━━━━━━━━━━━━━━\u001b[0m\u001b[37m\u001b[0m \u001b[1m2s\u001b[0m 5ms/step - accuracy: 0.9654 - loss: 0.0923 - val_accuracy: 0.7415 - val_loss: 1.2033\n",
            "Epoch 17/30\n",
            "\u001b[1m351/351\u001b[0m \u001b[32m━━━━━━━━━━━━━━━━━━━━\u001b[0m\u001b[37m\u001b[0m \u001b[1m2s\u001b[0m 5ms/step - accuracy: 0.9675 - loss: 0.0847 - val_accuracy: 0.7464 - val_loss: 1.2632\n",
            "Epoch 18/30\n",
            "\u001b[1m351/351\u001b[0m \u001b[32m━━━━━━━━━━━━━━━━━━━━\u001b[0m\u001b[37m\u001b[0m \u001b[1m2s\u001b[0m 5ms/step - accuracy: 0.9690 - loss: 0.0767 - val_accuracy: 0.7422 - val_loss: 1.3098\n",
            "Epoch 19/30\n",
            "\u001b[1m351/351\u001b[0m \u001b[32m━━━━━━━━━━━━━━━━━━━━\u001b[0m\u001b[37m\u001b[0m \u001b[1m2s\u001b[0m 5ms/step - accuracy: 0.9652 - loss: 0.0793 - val_accuracy: 0.7407 - val_loss: 1.3657\n",
            "Epoch 20/30\n",
            "\u001b[1m351/351\u001b[0m \u001b[32m━━━━━━━━━━━━━━━━━━━━\u001b[0m\u001b[37m\u001b[0m \u001b[1m2s\u001b[0m 5ms/step - accuracy: 0.9681 - loss: 0.0723 - val_accuracy: 0.7450 - val_loss: 1.4983\n",
            "Epoch 21/30\n",
            "\u001b[1m351/351\u001b[0m \u001b[32m━━━━━━━━━━━━━━━━━━━━\u001b[0m\u001b[37m\u001b[0m \u001b[1m2s\u001b[0m 5ms/step - accuracy: 0.9706 - loss: 0.0681 - val_accuracy: 0.7379 - val_loss: 1.4768\n",
            "Epoch 22/30\n",
            "\u001b[1m351/351\u001b[0m \u001b[32m━━━━━━━━━━━━━━━━━━━━\u001b[0m\u001b[37m\u001b[0m \u001b[1m2s\u001b[0m 5ms/step - accuracy: 0.9765 - loss: 0.0588 - val_accuracy: 0.7450 - val_loss: 1.5821\n",
            "Epoch 23/30\n",
            "\u001b[1m351/351\u001b[0m \u001b[32m━━━━━━━━━━━━━━━━━━━━\u001b[0m\u001b[37m\u001b[0m \u001b[1m2s\u001b[0m 5ms/step - accuracy: 0.9735 - loss: 0.0639 - val_accuracy: 0.7450 - val_loss: 1.6550\n",
            "Epoch 24/30\n",
            "\u001b[1m351/351\u001b[0m \u001b[32m━━━━━━━━━━━━━━━━━━━━\u001b[0m\u001b[37m\u001b[0m \u001b[1m2s\u001b[0m 5ms/step - accuracy: 0.9739 - loss: 0.0589 - val_accuracy: 0.7372 - val_loss: 1.5936\n",
            "Epoch 25/30\n",
            "\u001b[1m351/351\u001b[0m \u001b[32m━━━━━━━━━━━━━━━━━━━━\u001b[0m\u001b[37m\u001b[0m \u001b[1m2s\u001b[0m 5ms/step - accuracy: 0.9788 - loss: 0.0540 - val_accuracy: 0.7322 - val_loss: 1.5914\n",
            "Epoch 26/30\n",
            "\u001b[1m351/351\u001b[0m \u001b[32m━━━━━━━━━━━━━━━━━━━━\u001b[0m\u001b[37m\u001b[0m \u001b[1m2s\u001b[0m 5ms/step - accuracy: 0.9750 - loss: 0.0598 - val_accuracy: 0.7322 - val_loss: 1.6833\n",
            "Epoch 27/30\n",
            "\u001b[1m351/351\u001b[0m \u001b[32m━━━━━━━━━━━━━━━━━━━━\u001b[0m\u001b[37m\u001b[0m \u001b[1m2s\u001b[0m 5ms/step - accuracy: 0.9775 - loss: 0.0584 - val_accuracy: 0.7400 - val_loss: 1.6531\n",
            "Epoch 28/30\n",
            "\u001b[1m351/351\u001b[0m \u001b[32m━━━━━━━━━━━━━━━━━━━━\u001b[0m\u001b[37m\u001b[0m \u001b[1m2s\u001b[0m 5ms/step - accuracy: 0.9806 - loss: 0.0498 - val_accuracy: 0.7372 - val_loss: 1.6697\n",
            "Epoch 29/30\n",
            "\u001b[1m351/351\u001b[0m \u001b[32m━━━━━━━━━━━━━━━━━━━━\u001b[0m\u001b[37m\u001b[0m \u001b[1m2s\u001b[0m 5ms/step - accuracy: 0.9824 - loss: 0.0461 - val_accuracy: 0.7258 - val_loss: 1.7364\n",
            "Epoch 30/30\n",
            "\u001b[1m351/351\u001b[0m \u001b[32m━━━━━━━━━━━━━━━━━━━━\u001b[0m\u001b[37m\u001b[0m \u001b[1m2s\u001b[0m 5ms/step - accuracy: 0.9777 - loss: 0.0475 - val_accuracy: 0.7286 - val_loss: 1.8047\n"
          ]
        }
      ],
      "source": [
        "# 여기에 답안코드를 작성하세요.\n",
        "n = x_train.shape[1]\n",
        "\n",
        "model = Sequential()\n",
        "model.add(Input(shape=(n,)))\n",
        "model.add(Dense(64, activation='relu'))\n",
        "model.add(Dropout(0.2))\n",
        "model.add(Dense(16, activation='relu'))\n",
        "model.add(Dense(1, activation='sigmoid'))\n",
        "\n",
        "model.compile(optimizer='adam', loss='binary_crossentropy', metrics=['accuracy'])\n",
        "history = model.fit(x_train, y_train, validation_data=(x_valid, y_valid),batch_size=16, epochs=30)"
      ]
    },
    {
      "cell_type": "markdown",
      "id": "12f33874-3f1e-4b63-ba3e-91d90ee5e512",
      "metadata": {
        "id": "12f33874-3f1e-4b63-ba3e-91d90ee5e512"
      },
      "source": [
        "<br>"
      ]
    },
    {
      "cell_type": "markdown",
      "id": "8989c197-ec84-4192-955d-1c52d34cb006",
      "metadata": {
        "id": "8989c197-ec84-4192-955d-1c52d34cb006"
      },
      "source": [
        "### 16. 위 딥러닝 모델의 성능을 평가하려고 합니다.\n",
        "### Matplotlib 라이브러리 활용해서 학습 accuracy와 검증 accuracy를 그래프로 표시하세요.\n",
        "* 1개의 그래프에 학습 accuracy와 검증 accuracy 2가지를 모두 표시하세요.\n",
        "* 위 2가지 각각의 범례를 'acc', 'val_acc'로 표시하세요.\n",
        "* 그래프의 타이틀은 'Accuracy'로 표시하세요.\n",
        "* X축에는 'Epochs'라고 표시하고 Y축에는 'Acc'라고 표시하세요."
      ]
    },
    {
      "cell_type": "code",
      "execution_count": null,
      "id": "e5094d66-0b51-45bf-89f0-07af04d7909e",
      "metadata": {
        "id": "e5094d66-0b51-45bf-89f0-07af04d7909e",
        "outputId": "3ef03770-a55f-4acc-982a-5ef44a1714b2"
      },
      "outputs": [
        {
          "data": {
            "image/png": "[encoded data removed]",
            "text/plain": [
              "<Figure size 640x480 with 1 Axes>"
            ]
          },
          "metadata": {},
          "output_type": "display_data"
        }
      ],
      "source": [
        "# 여기에 답안코드를 작성하세요.\n",
        "plt.title='Accuracy'\n",
        "plt.plot(history.history['accuracy'],label='acc')\n",
        "plt.plot(history.history['val_accuracy'],label='val_acc')\n",
        "plt.xlabel('Epochs')\n",
        "plt.ylabel('Acc')\n",
        "plt.legend()\n",
        "plt.grid()\n",
        "plt.show()"
      ]
    },
    {
      "cell_type": "code",
      "execution_count": null,
      "id": "98ea55a3-d1f5-4c60-b374-49226cd3b45c",
      "metadata": {
        "id": "98ea55a3-d1f5-4c60-b374-49226cd3b45c",
        "outputId": "e3f07eec-6e12-40f7-c429-3854b2c8b516"
      },
      "outputs": [
        {
          "name": "stdout",
          "output_type": "stream",
          "text": [
            "\u001b[1m44/44\u001b[0m \u001b[32m━━━━━━━━━━━━━━━━━━━━\u001b[0m\u001b[37m\u001b[0m \u001b[1m0s\u001b[0m 5ms/step\n"
          ]
        },
        {
          "data": {
            "text/plain": [
              "0.7343304843304843"
            ]
          },
          "execution_count": 488,
          "metadata": {},
          "output_type": "execute_result"
        }
      ],
      "source": [
        "y_pred = model.predict(x_valid)\n",
        "accuracy_score(y_valid,y_pred.argmax(axis=1))"
      ]
    },
    {
      "cell_type": "markdown",
      "id": "039f72f3-13cd-4b6b-8007-e46c3cb35639",
      "metadata": {
        "id": "039f72f3-13cd-4b6b-8007-e46c3cb35639"
      },
      "source": [
        "### [선택] 모든 과정을 수행한 후에는 머신러닝, 딥러닝 모델의 성능을 향상시켜보세요."
      ]
    },
    {
      "cell_type": "code",
      "execution_count": null,
      "id": "c5ccd276-3a48-4581-857d-90133b6e1816",
      "metadata": {
        "id": "c5ccd276-3a48-4581-857d-90133b6e1816"
      },
      "outputs": [],
      "source": [
        "# churn 데이터 불균형으로 인해 성능이 75정도밖에 되지 않음\n",
        "# 언더샘플링, 오버샘플링을 통해 성능을 92까지 올릴 수 있다\n",
        "\n"
      ]
    }
  ],
  "metadata": {
    "kernelspec": {
      "display_name": "Python 3 (ipykernel)",
      "language": "python",
      "name": "python3"
    },
    "language_info": {
      "codemirror_mode": {
        "name": "ipython",
        "version": 3
      },
      "file_extension": ".py",
      "mimetype": "text/x-python",
      "name": "python",
      "nbconvert_exporter": "python",
      "pygments_lexer": "ipython3",
      "version": "3.12.4"
    },
    "colab": {
      "provenance": [],
      "include_colab_link": true
    }
  },
  "nbformat": 4,
  "nbformat_minor": 5
}